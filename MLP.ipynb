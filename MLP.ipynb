{
 "cells": [
  {
   "cell_type": "code",
   "execution_count": 1,
   "id": "98ec87d9-69e6-449c-bae8-e3cf263c0de4",
   "metadata": {},
   "outputs": [],
   "source": [
    "import sklearn"
   ]
  },
  {
   "cell_type": "markdown",
   "id": "02f7ec02-3dec-411b-9663-221526a73b2f",
   "metadata": {},
   "source": [
    "# Regression MLPs"
   ]
  },
  {
   "cell_type": "code",
   "execution_count": 5,
   "id": "fa436789-079d-45c8-952a-ccf2b81d29e4",
   "metadata": {},
   "outputs": [],
   "source": [
    "from sklearn.datasets import fetch_california_housing\n",
    "from sklearn.metrics import root_mean_squared_error\n",
    "from sklearn.model_selection import train_test_split\n",
    "from sklearn.neural_network import MLPRegressor\n",
    "from sklearn.pipeline import make_pipeline\n",
    "from sklearn.preprocessing import StandardScaler\n",
    "\n",
    "housing = fetch_california_housing()\n",
    "\n",
    "X_train_full, X_test, y_train_full, y_test = train_test_split(housing.data, housing.target, random_state=42)\n",
    "\n",
    "X_train, X_valid, y_train, y_valid = train_test_split(X_train_full, y_train_full, random_state=42)\n",
    "\n",
    "mlp_reg = MLPRegressor(hidden_layer_sizes=[50, 50, 50], random_state=42)\n",
    "\n",
    "pipeline = make_pipeline(StandardScaler(), mlp_reg)\n",
    "pipeline.fit(X_train, y_train)\n",
    "\n",
    "y_pred = pipeline.predict(X_valid)\n",
    "rmse = root_mean_squared_error(y_valid, y_pred)"
   ]
  },
  {
   "cell_type": "code",
   "execution_count": 7,
   "id": "cf97f28a-ed5b-443a-afc6-5125c52810d7",
   "metadata": {},
   "outputs": [
    {
     "data": {
      "text/plain": [
       "0.5053326657968523"
      ]
     },
     "execution_count": 7,
     "metadata": {},
     "output_type": "execute_result"
    }
   ],
   "source": [
    "rmse"
   ]
  },
  {
   "cell_type": "code",
   "execution_count": null,
   "id": "a99d123e-3c4e-4ae7-a402-af58a8e454f1",
   "metadata": {},
   "outputs": [],
   "source": [
    "\"C:\\Users\\Dell\\Desktop\\Deep-learning\\mlp regression.png\""
   ]
  },
  {
   "cell_type": "markdown",
   "id": "fdbfa834-f4a6-4e02-a7b9-557811aaa7ad",
   "metadata": {},
   "source": [
    "**Note**: Building and training a standard MLP with Scikit-Learn in just a few lines of code is very\n",
    "convenient, but the neural net features are limited. This is why we will switch to Keras later."
   ]
  },
  {
   "cell_type": "markdown",
   "id": "bc33f830-400a-42cc-a3c9-bbf96c70be32",
   "metadata": {},
   "source": [
    "# Classification MLPs\n"
   ]
  },
  {
   "cell_type": "markdown",
   "id": "d65cab9b-5a07-42de-9001-138e6a70472a",
   "metadata": {},
   "source": [
    "MLPs can also be used for classification tasks. For a binary classification\n",
    "problem, you just need a single output neuron using the sigmoid activation\n",
    "function: the output will be a number between 0 and 1, which you can\n",
    "interpret as the estimated probability of the positive class. The estimated\n",
    "probability of the negative class is equal to one minus that number."
   ]
  },
  {
   "cell_type": "code",
   "execution_count": null,
   "id": "6213f43c-97d0-4856-ad0d-a74541776243",
   "metadata": {},
   "outputs": [],
   "source": [
    "\"C:\\Users\\Dell\\Desktop\\Deep-learning\\mlp classifier.png\""
   ]
  },
  {
   "cell_type": "markdown",
   "id": "694d02f1-7ae6-4bd5-8c2c-25e34b51e97d",
   "metadata": {},
   "source": [
    "# Implementing MLPs with Keras\n"
   ]
  },
  {
   "cell_type": "markdown",
   "id": "0096591f-db61-49e3-a533-87c33c21932f",
   "metadata": {},
   "source": [
    "Keras is TensorFlow’s high-level deep learning API: it allows you to build,\n",
    "train, evaluate, and execute all sorts of neural networks. The original Keras\n",
    "library was developed by François Chollet as part of a research project\n",
    "and was released as a standalone open source project in March 2015. It\n",
    "quickly gained popularity, owing to its ease of use, flexibility, and beautiful\n",
    "design.\n"
   ]
  },
  {
   "cell_type": "markdown",
   "id": "7152ed8a-d9e1-40d6-b69e-5b939666d5ca",
   "metadata": {},
   "source": [
    "Now let’s use Keras! We will start by building an MLP for image\n",
    "classification."
   ]
  },
  {
   "cell_type": "code",
   "execution_count": 8,
   "id": "69a9d5bc-26e5-4e4c-b44a-c6da742bad55",
   "metadata": {},
   "outputs": [],
   "source": [
    "import tensorflow as tf\n"
   ]
  },
  {
   "cell_type": "markdown",
   "id": "6586c312-0586-4a13-a06c-efe9da5f3e6e",
   "metadata": {},
   "source": [
    "**Building an Image Classifier Using the Sequential API**\n",
    "\n",
    "\n",
    "First, we need to load a dataset. We will use Fashion MNIST, which is a\n",
    "drop-in replacement of MNIST (The digits dataset). It has the exact\n",
    "same format as MNIST (70,000 grayscale images of 28 × 28 pixels each,\n",
    "with 10 classes), but the images represent fashion items rather than\n",
    "handwritten digits, so each class is more diverse, and the problem turns out to\n",
    "be significantly more challenging than MNIST. For example, a simple linear\n",
    "model reaches about 92% accuracy on MNIST, but only about 83% on\n",
    "Fashion MNIST.\n"
   ]
  },
  {
   "cell_type": "markdown",
   "id": "3fd06bb4-c925-4906-9985-b69cd1d7c37a",
   "metadata": {},
   "source": [
    "**Using Keras to load the dataset**\n",
    "\n",
    "\n",
    "Keras provides some utility functions to fetch and load common datasets,\n",
    "including MNIST, Fashion MNIST, and a few more. Let’s load Fashion\n",
    "MNIST. It’s already shuffled and split into a training set (60,000 images) and\n",
    "a test set (10,000 images), but we’ll hold out the last 5,000 images from the\n",
    "training set for validation:\n"
   ]
  },
  {
   "cell_type": "code",
   "execution_count": 10,
   "id": "296eaed3-3591-4eb6-b4b4-60605f9e6d62",
   "metadata": {},
   "outputs": [
    {
     "name": "stdout",
     "output_type": "stream",
     "text": [
      "Downloading data from https://storage.googleapis.com/tensorflow/tf-keras-datasets/train-labels-idx1-ubyte.gz\n",
      "\u001b[1m29515/29515\u001b[0m \u001b[32m━━━━━━━━━━━━━━━━━━━━\u001b[0m\u001b[37m\u001b[0m \u001b[1m0s\u001b[0m 17us/step\n",
      "Downloading data from https://storage.googleapis.com/tensorflow/tf-keras-datasets/train-images-idx3-ubyte.gz\n",
      "\u001b[1m26421880/26421880\u001b[0m \u001b[32m━━━━━━━━━━━━━━━━━━━━\u001b[0m\u001b[37m\u001b[0m \u001b[1m74s\u001b[0m 3us/step\n",
      "Downloading data from https://storage.googleapis.com/tensorflow/tf-keras-datasets/t10k-labels-idx1-ubyte.gz\n",
      "\u001b[1m5148/5148\u001b[0m \u001b[32m━━━━━━━━━━━━━━━━━━━━\u001b[0m\u001b[37m\u001b[0m \u001b[1m0s\u001b[0m 1us/step\n",
      "Downloading data from https://storage.googleapis.com/tensorflow/tf-keras-datasets/t10k-images-idx3-ubyte.gz\n",
      "\u001b[1m4422102/4422102\u001b[0m \u001b[32m━━━━━━━━━━━━━━━━━━━━\u001b[0m\u001b[37m\u001b[0m \u001b[1m6s\u001b[0m 1us/step\n"
     ]
    }
   ],
   "source": [
    "fashion_mnist = tf.keras.datasets.fashion_mnist.load_data()\n"
   ]
  },
  {
   "cell_type": "code",
   "execution_count": 11,
   "id": "a79f8c26-9c8f-4229-b41f-0193688ff332",
   "metadata": {},
   "outputs": [],
   "source": [
    "(X_train_full, y_train_full), (X_test, y_test) = fashion_mnist\n",
    "X_train, y_train = X_train_full[:-5000], y_train_full[:-5000]\n",
    "X_valid, y_valid = X_train_full[-5000:], y_train_full[-5000:]"
   ]
  },
  {
   "cell_type": "markdown",
   "id": "7dc66e4c-de7f-4227-99f3-e80657ad909b",
   "metadata": {},
   "source": [
    "When loading MNIST or Fashion MNIST using Keras rather than ScikitLearn, one important difference is that every image is represented as a 28 ×\n",
    "28 array rather than a 1D array of size 784. Moreover, the pixel intensities are\n",
    "represented as integers (from 0 to 255) rather than floats (from 0.0 to 255.0).\n",
    "Let’s take a look at the shape and data type of the training set:"
   ]
  },
  {
   "cell_type": "code",
   "execution_count": 12,
   "id": "bc2485e7-f9b3-4d16-a91c-4fffa0619ecf",
   "metadata": {},
   "outputs": [
    {
     "data": {
      "text/plain": [
       "(55000, 28, 28)"
      ]
     },
     "execution_count": 12,
     "metadata": {},
     "output_type": "execute_result"
    }
   ],
   "source": [
    "X_train.shape"
   ]
  },
  {
   "cell_type": "code",
   "execution_count": 13,
   "id": "9f06b65b-62eb-4a2b-b4b8-e9acaca7d456",
   "metadata": {},
   "outputs": [
    {
     "data": {
      "text/plain": [
       "dtype('uint8')"
      ]
     },
     "execution_count": 13,
     "metadata": {},
     "output_type": "execute_result"
    }
   ],
   "source": [
    "X_train.dtype"
   ]
  },
  {
   "cell_type": "markdown",
   "id": "b90854d5-7e77-45b0-bc05-76f37472ece1",
   "metadata": {},
   "source": [
    "Let's scale the pixel intensities down to the 0-1 range and convert them to floats, by dividing by 255:"
   ]
  },
  {
   "cell_type": "code",
   "execution_count": 14,
   "id": "64733449-0e31-4988-9973-1fd3aa34bc13",
   "metadata": {},
   "outputs": [],
   "source": [
    "X_train, X_valid, X_test = X_train / 255., X_valid / 255., X_test / 255."
   ]
  },
  {
   "cell_type": "code",
   "execution_count": 16,
   "id": "3b9e960d-d57e-4c31-930d-509fd1bfd5fe",
   "metadata": {},
   "outputs": [
    {
     "data": {
      "image/png": "[encoded data removed]",
      "text/plain": [
       "<Figure size 640x480 with 1 Axes>"
      ]
     },
     "metadata": {},
     "output_type": "display_data"
    }
   ],
   "source": [
    "# plottinng the first  item in the training set\n",
    "import matplotlib.pyplot as plt\n",
    "plt.imshow(X_train[0], cmap=\"binary\")\n",
    "plt.axis('off')\n",
    "plt.show()"
   ]
  },
  {
   "cell_type": "code",
   "execution_count": 17,
   "id": "7834d9c9-0dca-4a44-9651-ec0b6d2242b1",
   "metadata": {},
   "outputs": [
    {
     "data": {
      "image/png": "[encoded data removed]",
      "text/plain": [
       "<Figure size 640x480 with 1 Axes>"
      ]
     },
     "metadata": {},
     "output_type": "display_data"
    }
   ],
   "source": [
    "# plotting the last item in the train set\n",
    "plt.imshow(X_train[-1], cmap=\"binary\")\n",
    "plt.axis('off')\n",
    "plt.show()"
   ]
  },
  {
   "cell_type": "code",
   "execution_count": 18,
   "id": "d2d8d3fc-c6d5-4b09-8d1c-07be33f4267d",
   "metadata": {},
   "outputs": [
    {
     "data": {
      "text/plain": [
       "array([9, 0, 0, ..., 9, 0, 2], dtype=uint8)"
      ]
     },
     "execution_count": 18,
     "metadata": {},
     "output_type": "execute_result"
    }
   ],
   "source": [
    "y_train"
   ]
  },
  {
   "cell_type": "markdown",
   "id": "617def5e-0f00-45e1-b51e-13c0e3245dd5",
   "metadata": {},
   "source": [
    "With MNIST, when the label is equal to 5, it means that the image represents\n",
    "the handwritten digit 5. Easy. For Fashion MNIST, however, we need the list\n",
    "of class names to know what we are dealing with:"
   ]
  },
  {
   "cell_type": "code",
   "execution_count": 19,
   "id": "de6ff20f-be30-48da-b0d4-de76cdfe60fe",
   "metadata": {},
   "outputs": [],
   "source": [
    "class_names = [\"T-shirt/top\", \"Trouser\", \"Pullover\", \"Dress\", \"Coat\", \"Sandal\", \"Shirt\", \"Sneaker\", \"Bag\", \"Ankle boot\"]"
   ]
  },
  {
   "cell_type": "code",
   "execution_count": 20,
   "id": "f41df32c-c57d-49a5-b0d2-359a4b7c8d1a",
   "metadata": {},
   "outputs": [
    {
     "data": {
      "text/plain": [
       "'Ankle boot'"
      ]
     },
     "execution_count": 20,
     "metadata": {},
     "output_type": "execute_result"
    }
   ],
   "source": [
    "class_names[y_train[0]]"
   ]
  },
  {
   "cell_type": "code",
   "execution_count": 21,
   "id": "bee3b288-8d11-46e9-b142-3723cada65a1",
   "metadata": {},
   "outputs": [
    {
     "data": {
      "text/plain": [
       "9"
      ]
     },
     "execution_count": 21,
     "metadata": {},
     "output_type": "execute_result"
    }
   ],
   "source": [
    "y_train[0]"
   ]
  },
  {
   "cell_type": "code",
   "execution_count": 23,
   "id": "36f0393a-633d-4279-9ea3-efbf0869c73a",
   "metadata": {},
   "outputs": [
    {
     "data": {
      "text/plain": [
       "'Sandal'"
      ]
     },
     "execution_count": 23,
     "metadata": {},
     "output_type": "execute_result"
    }
   ],
   "source": [
    "class_names[y_train[8]]"
   ]
  },
  {
   "cell_type": "markdown",
   "id": "e4f3e87b-a166-4c49-9574-3b5e078e744f",
   "metadata": {},
   "source": [
    "Let's take a look at a sample of few more images in the dataset:"
   ]
  },
  {
   "cell_type": "code",
   "execution_count": 24,
   "id": "5ad0d942-48f1-407f-ad80-690be8e5a4f4",
   "metadata": {},
   "outputs": [
    {
     "data": {
      "image/png": "[encoded data removed]",
      "text/plain": [
       "<Figure size 1200x480 with 40 Axes>"
      ]
     },
     "metadata": {},
     "output_type": "display_data"
    }
   ],
   "source": [
    "\n",
    "n_rows = 4\n",
    "n_cols = 10\n",
    "plt.figure(figsize=(n_cols * 1.2, n_rows * 1.2))\n",
    "for row in range(n_rows):\n",
    "    for col in range(n_cols):\n",
    "        index = n_cols * row + col\n",
    "        plt.subplot(n_rows, n_cols, index + 1)\n",
    "        plt.imshow(X_train[index], cmap=\"binary\", interpolation=\"nearest\")\n",
    "        plt.axis('off')\n",
    "        plt.title(class_names[y_train[index]])\n",
    "plt.subplots_adjust(wspace=0.2, hspace=0.5)\n",
    "\n",
    "plt.show()"
   ]
  },
  {
   "cell_type": "markdown",
   "id": "d364ebeb-4aed-48e0-97af-dde9b3534e52",
   "metadata": {},
   "source": [
    "## Creating the model using the Sequential API"
   ]
  },
  {
   "cell_type": "markdown",
   "id": "1e2615a3-85dc-4621-a957-b49b3263cef5",
   "metadata": {},
   "source": [
    "Now let’s build the neural network! Here is a classification MLP with two\n",
    "hidden layers:"
   ]
  },
  {
   "cell_type": "code",
   "execution_count": 26,
   "id": "b511f85c-2711-4236-8727-e41f4dcf6877",
   "metadata": {},
   "outputs": [],
   "source": [
    "tf.random.set_seed(42)\n",
    "model = tf.keras.Sequential()\n",
    "model.add(tf.keras.layers.InputLayer(shape=[28, 28]))\n",
    "model.add(tf.keras.layers.Flatten())\n",
    "model.add(tf.keras.layers.Dense(300, activation=\"relu\"))\n",
    "model.add(tf.keras.layers.Dense(100, activation=\"relu\"))\n",
    "model.add(tf.keras.layers.Dense(10, activation=\"softmax\"))"
   ]
  },
  {
   "cell_type": "markdown",
   "id": "29079c86-f10d-4b97-9539-9838e3565278",
   "metadata": {},
   "source": [
    "Instead of adding the layers one by one as we just did, it’s often more\n",
    "convenient to pass a list of layers when creating the Sequential model. You\n",
    "can also drop the Input layer and instead specify the shape in the first\n",
    "layer:\n"
   ]
  },
  {
   "cell_type": "code",
   "execution_count": 29,
   "id": "b580afef-f42c-4cae-9aa5-9d561b2329a1",
   "metadata": {},
   "outputs": [],
   "source": [
    "# extra code – clear the session to reset the name counters\n",
    "tf.keras.backend.clear_session()\n",
    "tf.random.set_seed(42)\n",
    "\n",
    "model = tf.keras.Sequential([\n",
    "    tf.keras.layers.Flatten(input_shape=[28, 28]),\n",
    "    tf.keras.layers.Dense(300, activation=\"relu\"),\n",
    "    tf.keras.layers.Dense(100, activation=\"relu\"),\n",
    "    tf.keras.layers.Dense(10, activation=\"softmax\")\n",
    "])"
   ]
  },
  {
   "cell_type": "markdown",
   "id": "d2f4491a-6d1f-42f4-8f4e-0b42c4bacb1a",
   "metadata": {},
   "source": [
    "The model’s summary() method displays all the model’s layers, including\n",
    "each layer’s name (which is automatically generated unless you set it when\n",
    "creating the layer), its output shape (None means the batch size can be\n",
    "anything), and its number of parameters. The summary ends with the total\n",
    "number of parameters, including trainable and non-trainable parameters. Here\n",
    "we only have trainable parameters (you will see some non-trainable\n",
    "parameters later in this chapter):"
   ]
  },
  {
   "cell_type": "code",
   "execution_count": 30,
   "id": "0f0fe951-20b8-46e8-b91d-cc2f22f56f7f",
   "metadata": {},
   "outputs": [
    {
     "data": {
      "text/html": [
       "<pre style=\"white-space:pre;overflow-x:auto;line-height:normal;font-family:Menlo,'DejaVu Sans Mono',consolas,'Courier New',monospace\"><span style=\"font-weight: bold\">Model: \"sequential\"</span>\n",
       "</pre>\n"
      ],
      "text/plain": [
       "\u001b[1mModel: \"sequential\"\u001b[0m\n"
      ]
     },
     "metadata": {},
     "output_type": "display_data"
    },
    {
     "data": {
      "text/html": [
       "<pre style=\"white-space:pre;overflow-x:auto;line-height:normal;font-family:Menlo,'DejaVu Sans Mono',consolas,'Courier New',monospace\">┏━━━━━━━━━━━━━━━━━━━━━━━━━━━━━━━━━━━━━━┳━━━━━━━━━━━━━━━━━━━━━━━━━━━━━┳━━━━━━━━━━━━━━━━━┓\n",
       "┃<span style=\"font-weight: bold\"> Layer (type)                         </span>┃<span style=\"font-weight: bold\"> Output Shape                </span>┃<span style=\"font-weight: bold\">         Param # </span>┃\n",
       "┡━━━━━━━━━━━━━━━━━━━━━━━━━━━━━━━━━━━━━━╇━━━━━━━━━━━━━━━━━━━━━━━━━━━━━╇━━━━━━━━━━━━━━━━━┩\n",
       "│ flatten (<span style=\"color: #0087ff; text-decoration-color: #0087ff\">Flatten</span>)                    │ (<span style=\"color: #00d7ff; text-decoration-color: #00d7ff\">None</span>, <span style=\"color: #00af00; text-decoration-color: #00af00\">784</span>)                 │               <span style=\"color: #00af00; text-decoration-color: #00af00\">0</span> │\n",
       "├──────────────────────────────────────┼─────────────────────────────┼─────────────────┤\n",
       "│ dense (<span style=\"color: #0087ff; text-decoration-color: #0087ff\">Dense</span>)                        │ (<span style=\"color: #00d7ff; text-decoration-color: #00d7ff\">None</span>, <span style=\"color: #00af00; text-decoration-color: #00af00\">300</span>)                 │         <span style=\"color: #00af00; text-decoration-color: #00af00\">235,500</span> │\n",
       "├──────────────────────────────────────┼─────────────────────────────┼─────────────────┤\n",
       "│ dense_1 (<span style=\"color: #0087ff; text-decoration-color: #0087ff\">Dense</span>)                      │ (<span style=\"color: #00d7ff; text-decoration-color: #00d7ff\">None</span>, <span style=\"color: #00af00; text-decoration-color: #00af00\">100</span>)                 │          <span style=\"color: #00af00; text-decoration-color: #00af00\">30,100</span> │\n",
       "├──────────────────────────────────────┼─────────────────────────────┼─────────────────┤\n",
       "│ dense_2 (<span style=\"color: #0087ff; text-decoration-color: #0087ff\">Dense</span>)                      │ (<span style=\"color: #00d7ff; text-decoration-color: #00d7ff\">None</span>, <span style=\"color: #00af00; text-decoration-color: #00af00\">10</span>)                  │           <span style=\"color: #00af00; text-decoration-color: #00af00\">1,010</span> │\n",
       "└──────────────────────────────────────┴─────────────────────────────┴─────────────────┘\n",
       "</pre>\n"
      ],
      "text/plain": [
       "┏━━━━━━━━━━━━━━━━━━━━━━━━━━━━━━━━━━━━━━┳━━━━━━━━━━━━━━━━━━━━━━━━━━━━━┳━━━━━━━━━━━━━━━━━┓\n",
       "┃\u001b[1m \u001b[0m\u001b[1mLayer (type)                        \u001b[0m\u001b[1m \u001b[0m┃\u001b[1m \u001b[0m\u001b[1mOutput Shape               \u001b[0m\u001b[1m \u001b[0m┃\u001b[1m \u001b[0m\u001b[1m        Param #\u001b[0m\u001b[1m \u001b[0m┃\n",
       "┡━━━━━━━━━━━━━━━━━━━━━━━━━━━━━━━━━━━━━━╇━━━━━━━━━━━━━━━━━━━━━━━━━━━━━╇━━━━━━━━━━━━━━━━━┩\n",
       "│ flatten (\u001b[38;5;33mFlatten\u001b[0m)                    │ (\u001b[38;5;45mNone\u001b[0m, \u001b[38;5;34m784\u001b[0m)                 │               \u001b[38;5;34m0\u001b[0m │\n",
       "├──────────────────────────────────────┼─────────────────────────────┼─────────────────┤\n",
       "│ dense (\u001b[38;5;33mDense\u001b[0m)                        │ (\u001b[38;5;45mNone\u001b[0m, \u001b[38;5;34m300\u001b[0m)                 │         \u001b[38;5;34m235,500\u001b[0m │\n",
       "├──────────────────────────────────────┼─────────────────────────────┼─────────────────┤\n",
       "│ dense_1 (\u001b[38;5;33mDense\u001b[0m)                      │ (\u001b[38;5;45mNone\u001b[0m, \u001b[38;5;34m100\u001b[0m)                 │          \u001b[38;5;34m30,100\u001b[0m │\n",
       "├──────────────────────────────────────┼─────────────────────────────┼─────────────────┤\n",
       "│ dense_2 (\u001b[38;5;33mDense\u001b[0m)                      │ (\u001b[38;5;45mNone\u001b[0m, \u001b[38;5;34m10\u001b[0m)                  │           \u001b[38;5;34m1,010\u001b[0m │\n",
       "└──────────────────────────────────────┴─────────────────────────────┴─────────────────┘\n"
      ]
     },
     "metadata": {},
     "output_type": "display_data"
    },
    {
     "data": {
      "text/html": [
       "<pre style=\"white-space:pre;overflow-x:auto;line-height:normal;font-family:Menlo,'DejaVu Sans Mono',consolas,'Courier New',monospace\"><span style=\"font-weight: bold\"> Total params: </span><span style=\"color: #00af00; text-decoration-color: #00af00\">266,610</span> (1.02 MB)\n",
       "</pre>\n"
      ],
      "text/plain": [
       "\u001b[1m Total params: \u001b[0m\u001b[38;5;34m266,610\u001b[0m (1.02 MB)\n"
      ]
     },
     "metadata": {},
     "output_type": "display_data"
    },
    {
     "data": {
      "text/html": [
       "<pre style=\"white-space:pre;overflow-x:auto;line-height:normal;font-family:Menlo,'DejaVu Sans Mono',consolas,'Courier New',monospace\"><span style=\"font-weight: bold\"> Trainable params: </span><span style=\"color: #00af00; text-decoration-color: #00af00\">266,610</span> (1.02 MB)\n",
       "</pre>\n"
      ],
      "text/plain": [
       "\u001b[1m Trainable params: \u001b[0m\u001b[38;5;34m266,610\u001b[0m (1.02 MB)\n"
      ]
     },
     "metadata": {},
     "output_type": "display_data"
    },
    {
     "data": {
      "text/html": [
       "<pre style=\"white-space:pre;overflow-x:auto;line-height:normal;font-family:Menlo,'DejaVu Sans Mono',consolas,'Courier New',monospace\"><span style=\"font-weight: bold\"> Non-trainable params: </span><span style=\"color: #00af00; text-decoration-color: #00af00\">0</span> (0.00 B)\n",
       "</pre>\n"
      ],
      "text/plain": [
       "\u001b[1m Non-trainable params: \u001b[0m\u001b[38;5;34m0\u001b[0m (0.00 B)\n"
      ]
     },
     "metadata": {},
     "output_type": "display_data"
    }
   ],
   "source": [
    "model.summary()"
   ]
  },
  {
   "cell_type": "code",
   "execution_count": 33,
   "id": "93606685-cbf7-4031-9946-ce5345f8a29c",
   "metadata": {},
   "outputs": [
    {
     "name": "stdout",
     "output_type": "stream",
     "text": [
      "You must install pydot (`pip install pydot`) for `plot_model` to work.\n"
     ]
    }
   ],
   "source": [
    "# extra code – another way to display the model's architecture\n",
    "tf.keras.utils.plot_model(model, show_shapes=True)"
   ]
  },
  {
   "cell_type": "markdown",
   "id": "bdfc0556-b024-4759-88b6-223efef8cd07",
   "metadata": {},
   "source": [
    "You can easily get a model’s list of layers using the layers attribute, or use\n",
    "the get_layer() method to access a layer by name:\n"
   ]
  },
  {
   "cell_type": "code",
   "execution_count": 34,
   "id": "956dad6e-ee5d-4d0f-8e32-36285b5addb2",
   "metadata": {},
   "outputs": [
    {
     "data": {
      "text/plain": [
       "[<Flatten name=flatten, built=True>,\n",
       " <Dense name=dense, built=True>,\n",
       " <Dense name=dense_1, built=True>,\n",
       " <Dense name=dense_2, built=True>]"
      ]
     },
     "execution_count": 34,
     "metadata": {},
     "output_type": "execute_result"
    }
   ],
   "source": [
    "model.layers"
   ]
  },
  {
   "cell_type": "code",
   "execution_count": 35,
   "id": "a04bcb68-4103-4e2a-b741-59cf344f9022",
   "metadata": {},
   "outputs": [
    {
     "data": {
      "text/plain": [
       "'dense'"
      ]
     },
     "execution_count": 35,
     "metadata": {},
     "output_type": "execute_result"
    }
   ],
   "source": [
    "hidden1 = model.layers[1]\n",
    "hidden1.name"
   ]
  },
  {
   "cell_type": "code",
   "execution_count": 36,
   "id": "6d1f21ac-10fb-4db3-8f97-916c74f37b77",
   "metadata": {},
   "outputs": [
    {
     "data": {
      "text/plain": [
       "True"
      ]
     },
     "execution_count": 36,
     "metadata": {},
     "output_type": "execute_result"
    }
   ],
   "source": [
    "model.get_layer('dense') is hidden1"
   ]
  },
  {
   "cell_type": "markdown",
   "id": "520f3d32-b8eb-4618-874c-2fb9b765dfaf",
   "metadata": {},
   "source": [
    "All the parameters of a layer can be accessed using its get_weights() and\n",
    "set_weights() methods. For a Dense layer, this includes both the connection\n",
    "weights and the bias terms:"
   ]
  },
  {
   "cell_type": "code",
   "execution_count": 37,
   "id": "9ee1071b-fda2-4dd3-96b1-8637fc05d097",
   "metadata": {},
   "outputs": [
    {
     "data": {
      "text/plain": [
       "array([[-0.04967791,  0.0152236 ,  0.05474816, ..., -0.00568553,\n",
       "         0.06268579,  0.06586623],\n",
       "       [ 0.04261615,  0.05166072,  0.02823554, ...,  0.04721878,\n",
       "         0.04293685, -0.07113168],\n",
       "       [ 0.01227877,  0.04010788, -0.02280708, ..., -0.04947826,\n",
       "        -0.06717753, -0.03161164],\n",
       "       ...,\n",
       "       [ 0.01668676,  0.0449297 ,  0.06802788, ...,  0.02372305,\n",
       "        -0.01182356, -0.06809808],\n",
       "       [ 0.02117955, -0.03813958, -0.06654359, ..., -0.05799491,\n",
       "        -0.06274177,  0.01791232],\n",
       "       [ 0.00991841, -0.04471413, -0.0693135 , ..., -0.00774183,\n",
       "        -0.05449379, -0.03572326]], dtype=float32)"
      ]
     },
     "execution_count": 37,
     "metadata": {},
     "output_type": "execute_result"
    }
   ],
   "source": [
    "weights, biases = hidden1.get_weights()\n",
    "weights"
   ]
  },
  {
   "cell_type": "code",
   "execution_count": 38,
   "id": "4389ef29-ab6f-43d2-acde-5b31ad5b9c93",
   "metadata": {},
   "outputs": [
    {
     "data": {
      "text/plain": [
       "(784, 300)"
      ]
     },
     "execution_count": 38,
     "metadata": {},
     "output_type": "execute_result"
    }
   ],
   "source": [
    "weights.shape"
   ]
  },
  {
   "cell_type": "code",
   "execution_count": 39,
   "id": "b37caeda-11aa-406e-8f6f-609d568a04ae",
   "metadata": {},
   "outputs": [
    {
     "data": {
      "text/plain": [
       "array([0., 0., 0., 0., 0., 0., 0., 0., 0., 0., 0., 0., 0., 0., 0., 0., 0.,\n",
       "       0., 0., 0., 0., 0., 0., 0., 0., 0., 0., 0., 0., 0., 0., 0., 0., 0.,\n",
       "       0., 0., 0., 0., 0., 0., 0., 0., 0., 0., 0., 0., 0., 0., 0., 0., 0.,\n",
       "       0., 0., 0., 0., 0., 0., 0., 0., 0., 0., 0., 0., 0., 0., 0., 0., 0.,\n",
       "       0., 0., 0., 0., 0., 0., 0., 0., 0., 0., 0., 0., 0., 0., 0., 0., 0.,\n",
       "       0., 0., 0., 0., 0., 0., 0., 0., 0., 0., 0., 0., 0., 0., 0., 0., 0.,\n",
       "       0., 0., 0., 0., 0., 0., 0., 0., 0., 0., 0., 0., 0., 0., 0., 0., 0.,\n",
       "       0., 0., 0., 0., 0., 0., 0., 0., 0., 0., 0., 0., 0., 0., 0., 0., 0.,\n",
       "       0., 0., 0., 0., 0., 0., 0., 0., 0., 0., 0., 0., 0., 0., 0., 0., 0.,\n",
       "       0., 0., 0., 0., 0., 0., 0., 0., 0., 0., 0., 0., 0., 0., 0., 0., 0.,\n",
       "       0., 0., 0., 0., 0., 0., 0., 0., 0., 0., 0., 0., 0., 0., 0., 0., 0.,\n",
       "       0., 0., 0., 0., 0., 0., 0., 0., 0., 0., 0., 0., 0., 0., 0., 0., 0.,\n",
       "       0., 0., 0., 0., 0., 0., 0., 0., 0., 0., 0., 0., 0., 0., 0., 0., 0.,\n",
       "       0., 0., 0., 0., 0., 0., 0., 0., 0., 0., 0., 0., 0., 0., 0., 0., 0.,\n",
       "       0., 0., 0., 0., 0., 0., 0., 0., 0., 0., 0., 0., 0., 0., 0., 0., 0.,\n",
       "       0., 0., 0., 0., 0., 0., 0., 0., 0., 0., 0., 0., 0., 0., 0., 0., 0.,\n",
       "       0., 0., 0., 0., 0., 0., 0., 0., 0., 0., 0., 0., 0., 0., 0., 0., 0.,\n",
       "       0., 0., 0., 0., 0., 0., 0., 0., 0., 0., 0.], dtype=float32)"
      ]
     },
     "execution_count": 39,
     "metadata": {},
     "output_type": "execute_result"
    }
   ],
   "source": [
    "biases"
   ]
  },
  {
   "cell_type": "code",
   "execution_count": 40,
   "id": "742b96dc-cbd5-4c9a-843f-e7619ae020a7",
   "metadata": {},
   "outputs": [
    {
     "data": {
      "text/plain": [
       "(300,)"
      ]
     },
     "execution_count": 40,
     "metadata": {},
     "output_type": "execute_result"
    }
   ],
   "source": [
    "biases.shape"
   ]
  },
  {
   "cell_type": "markdown",
   "id": "df9edd17-e0a1-4803-b388-2e7fde8852e1",
   "metadata": {},
   "source": [
    "**Note:** The shape of the weight matrix depends on the number of inputs, which is why we\n",
    "specified the input_shape when creating the model. If you do not specify the input shape,\n",
    "it’s OK: Keras will simply wait until it knows the input shape before it actually builds the\n",
    "model parameters. This will happen either when you feed it some data (e.g., during\n",
    "training), or when you call its build() method. Until the model parameters are built, you\n",
    "will not be able to do certain things, such as display the model summary or save the\n",
    "model. So, if you know the input shape when creating the model, it is best to specify it."
   ]
  },
  {
   "cell_type": "markdown",
   "id": "c2ed4143-d2b2-45a9-9a86-b89176e9e01a",
   "metadata": {},
   "source": [
    "## Compiling the model"
   ]
  },
  {
   "cell_type": "markdown",
   "id": "9cb96f5c-911c-4b24-ae9c-8c49905317c9",
   "metadata": {},
   "source": [
    "After a model is created, you must call its compile() method to specify the\n",
    "loss function and the optimizer to use. Optionally, you can specify a list of\n",
    "extra metrics to compute during training and evaluation:\n"
   ]
  },
  {
   "cell_type": "code",
   "execution_count": 43,
   "id": "fb4978da-865f-447a-b900-59ceca07bb19",
   "metadata": {},
   "outputs": [],
   "source": [
    "model.compile(loss=\"sparse_categorical_crossentropy\", optimizer=\"sgd\", metrics=[\"accuracy\"])\n",
    "\n",
    "\n",
    "# extra code – the below code is equivalent to the previous code\n",
    "# model.compile(loss=tf.keras.losses.sparse_categorical_crossentropy,\n",
    "#               optimizer=tf.keras.optimizers.SGD(),\n",
    "#               metrics=[tf.keras.metrics.sparse_categorical_accuracy])"
   ]
  },
  {
   "cell_type": "markdown",
   "id": "193d046e-b9fc-45a3-a7a6-388902cf3f53",
   "metadata": {},
   "source": [
    "The above code requires explanation. \n",
    "\n",
    "We use the\n",
    "\"sparse_categorical_crossentropy\" loss because we have sparse labels (i.e.,\n",
    "for each instance, there is just a target class index, from 0 to 9 in this case),\n",
    "and the classes are exclusive. If instead we had one target probability per\n",
    "class for each instance (such as one-hot vectors, e.g., [0., 0., 0., 1., 0., 0., 0.,\n",
    "0., 0., 0.] to represent class 3), then we would need to use the\n",
    "\"categorical_crossentropy\" loss instead. If we were doing binary\n",
    "classification or multilabel binary classification, then we would use the\n",
    "\"sigmoid\" activation function in the output layer instead of the \"softmax\"\n",
    "activation function, and we would use the \"binary_crossentropy\" loss.\n",
    "\n",
    "Regarding the optimizer, \"sgd\" means that we will train the model using\r\n",
    "stochastic gradient descent. In other words, Keras will perform the\r\n",
    "backpropagation algorithm described earlier (i.e., reverse-mode autodiff plus\r\n",
    "gradient descent\n",
    "\n",
    "Finally, since this is a classifier, it’s useful to measure its accuracy during\r\n",
    "training and evaluation, which is why we set metrics=[\"accuracy\"].\r",
    ").\n"
   ]
  },
  {
   "cell_type": "code",
   "execution_count": 44,
   "id": "c77dcdc5-7488-4fa4-ae27-f8669e5154a7",
   "metadata": {},
   "outputs": [
    {
     "data": {
      "text/plain": [
       "array([[1., 0., 0., 0., 0., 0., 0., 0., 0., 0.],\n",
       "       [0., 0., 0., 0., 0., 1., 0., 0., 0., 0.],\n",
       "       [0., 1., 0., 0., 0., 0., 0., 0., 0., 0.],\n",
       "       [1., 0., 0., 0., 0., 0., 0., 0., 0., 0.]])"
      ]
     },
     "execution_count": 44,
     "metadata": {},
     "output_type": "execute_result"
    }
   ],
   "source": [
    "# extra code – shows how to convert class ids to one-hot vectors\n",
    "tf.keras.utils.to_categorical([0, 5, 1, 0], num_classes=10)"
   ]
  },
  {
   "cell_type": "markdown",
   "id": "529ffa91-f2dc-4a37-9219-f6c6f0f5eadf",
   "metadata": {},
   "source": [
    "Note: it's important to set `num_classes` when the number of classes is greater than the maximum class id in the sample."
   ]
  },
  {
   "cell_type": "code",
   "execution_count": 46,
   "id": "a12df77d-7eaa-46f8-bb7f-432da5a37956",
   "metadata": {},
   "outputs": [
    {
     "data": {
      "text/plain": [
       "array([0, 5, 1, 0], dtype=int64)"
      ]
     },
     "execution_count": 46,
     "metadata": {},
     "output_type": "execute_result"
    }
   ],
   "source": [
    "# extra code – shows how to convert one-hot vectors to class ids\n",
    "import numpy as np\n",
    "np.argmax(\n",
    "    [[1., 0., 0., 0., 0., 0., 0., 0., 0., 0.],\n",
    "     [0., 0., 0., 0., 0., 1., 0., 0., 0., 0.],\n",
    "     [0., 1., 0., 0., 0., 0., 0., 0., 0., 0.],\n",
    "     [1., 0., 0., 0., 0., 0., 0., 0., 0., 0.]],\n",
    "    axis=1\n",
    ")"
   ]
  },
  {
   "cell_type": "markdown",
   "id": "d5249386-4468-428b-8465-f4dd2c675bd9",
   "metadata": {},
   "source": [
    "## Training and evaluating the model"
   ]
  },
  {
   "cell_type": "markdown",
   "id": "3e45bcc2-5425-43f3-a644-61b2a4a65d00",
   "metadata": {},
   "source": [
    "Now the model is ready to be trained. For this we simply need to call its fit()\n",
    "method:"
   ]
  },
  {
   "cell_type": "code",
   "execution_count": 47,
   "id": "24329d7d-03be-46da-8d12-e7a3a1e61ac0",
   "metadata": {},
   "outputs": [
    {
     "name": "stdout",
     "output_type": "stream",
     "text": [
      "Epoch 1/30\n",
      "\u001b[1m1719/1719\u001b[0m \u001b[32m━━━━━━━━━━━━━━━━━━━━\u001b[0m\u001b[37m\u001b[0m \u001b[1m5s\u001b[0m 3ms/step - accuracy: 0.6845 - loss: 1.0164 - val_accuracy: 0.8230 - val_loss: 0.5110\n",
      "Epoch 2/30\n",
      "\u001b[1m1719/1719\u001b[0m \u001b[32m━━━━━━━━━━━━━━━━━━━━\u001b[0m\u001b[37m\u001b[0m \u001b[1m5s\u001b[0m 3ms/step - accuracy: 0.8260 - loss: 0.5070 - val_accuracy: 0.8346 - val_loss: 0.4588\n",
      "Epoch 3/30\n",
      "\u001b[1m1719/1719\u001b[0m \u001b[32m━━━━━━━━━━━━━━━━━━━━\u001b[0m\u001b[37m\u001b[0m \u001b[1m5s\u001b[0m 3ms/step - accuracy: 0.8444 - loss: 0.4538 - val_accuracy: 0.8420 - val_loss: 0.4360\n",
      "Epoch 4/30\n",
      "\u001b[1m1719/1719\u001b[0m \u001b[32m━━━━━━━━━━━━━━━━━━━━\u001b[0m\u001b[37m\u001b[0m \u001b[1m4s\u001b[0m 3ms/step - accuracy: 0.8535 - loss: 0.4243 - val_accuracy: 0.8478 - val_loss: 0.4228\n",
      "Epoch 5/30\n",
      "\u001b[1m1719/1719\u001b[0m \u001b[32m━━━━━━━━━━━━━━━━━━━━\u001b[0m\u001b[37m\u001b[0m \u001b[1m5s\u001b[0m 3ms/step - accuracy: 0.8601 - loss: 0.4029 - val_accuracy: 0.8508 - val_loss: 0.4110\n",
      "Epoch 6/30\n",
      "\u001b[1m1719/1719\u001b[0m \u001b[32m━━━━━━━━━━━━━━━━━━━━\u001b[0m\u001b[37m\u001b[0m \u001b[1m4s\u001b[0m 2ms/step - accuracy: 0.8657 - loss: 0.3857 - val_accuracy: 0.8540 - val_loss: 0.4009\n",
      "Epoch 7/30\n",
      "\u001b[1m1719/1719\u001b[0m \u001b[32m━━━━━━━━━━━━━━━━━━━━\u001b[0m\u001b[37m\u001b[0m \u001b[1m5s\u001b[0m 3ms/step - accuracy: 0.8701 - loss: 0.3714 - val_accuracy: 0.8568 - val_loss: 0.3912\n",
      "Epoch 8/30\n",
      "\u001b[1m1719/1719\u001b[0m \u001b[32m━━━━━━━━━━━━━━━━━━━━\u001b[0m\u001b[37m\u001b[0m \u001b[1m4s\u001b[0m 3ms/step - accuracy: 0.8739 - loss: 0.3586 - val_accuracy: 0.8582 - val_loss: 0.3836\n",
      "Epoch 9/30\n",
      "\u001b[1m1719/1719\u001b[0m \u001b[32m━━━━━━━━━━━━━━━━━━━━\u001b[0m\u001b[37m\u001b[0m \u001b[1m4s\u001b[0m 3ms/step - accuracy: 0.8775 - loss: 0.3474 - val_accuracy: 0.8618 - val_loss: 0.3786\n",
      "Epoch 10/30\n",
      "\u001b[1m1719/1719\u001b[0m \u001b[32m━━━━━━━━━━━━━━━━━━━━\u001b[0m\u001b[37m\u001b[0m \u001b[1m5s\u001b[0m 3ms/step - accuracy: 0.8804 - loss: 0.3376 - val_accuracy: 0.8652 - val_loss: 0.3734\n",
      "Epoch 11/30\n",
      "\u001b[1m1719/1719\u001b[0m \u001b[32m━━━━━━━━━━━━━━━━━━━━\u001b[0m\u001b[37m\u001b[0m \u001b[1m5s\u001b[0m 3ms/step - accuracy: 0.8837 - loss: 0.3285 - val_accuracy: 0.8650 - val_loss: 0.3693\n",
      "Epoch 12/30\n",
      "\u001b[1m1719/1719\u001b[0m \u001b[32m━━━━━━━━━━━━━━━━━━━━\u001b[0m\u001b[37m\u001b[0m \u001b[1m5s\u001b[0m 3ms/step - accuracy: 0.8867 - loss: 0.3200 - val_accuracy: 0.8682 - val_loss: 0.3657\n",
      "Epoch 13/30\n",
      "\u001b[1m1719/1719\u001b[0m \u001b[32m━━━━━━━━━━━━━━━━━━━━\u001b[0m\u001b[37m\u001b[0m \u001b[1m5s\u001b[0m 3ms/step - accuracy: 0.8896 - loss: 0.3120 - val_accuracy: 0.8688 - val_loss: 0.3628\n",
      "Epoch 14/30\n",
      "\u001b[1m1719/1719\u001b[0m \u001b[32m━━━━━━━━━━━━━━━━━━━━\u001b[0m\u001b[37m\u001b[0m \u001b[1m5s\u001b[0m 3ms/step - accuracy: 0.8916 - loss: 0.3045 - val_accuracy: 0.8680 - val_loss: 0.3613\n",
      "Epoch 15/30\n",
      "\u001b[1m1719/1719\u001b[0m \u001b[32m━━━━━━━━━━━━━━━━━━━━\u001b[0m\u001b[37m\u001b[0m \u001b[1m5s\u001b[0m 3ms/step - accuracy: 0.8943 - loss: 0.2975 - val_accuracy: 0.8688 - val_loss: 0.3592\n",
      "Epoch 16/30\n",
      "\u001b[1m1719/1719\u001b[0m \u001b[32m━━━━━━━━━━━━━━━━━━━━\u001b[0m\u001b[37m\u001b[0m \u001b[1m5s\u001b[0m 3ms/step - accuracy: 0.8966 - loss: 0.2910 - val_accuracy: 0.8700 - val_loss: 0.3569\n",
      "Epoch 17/30\n",
      "\u001b[1m1719/1719\u001b[0m \u001b[32m━━━━━━━━━━━━━━━━━━━━\u001b[0m\u001b[37m\u001b[0m \u001b[1m5s\u001b[0m 3ms/step - accuracy: 0.8995 - loss: 0.2848 - val_accuracy: 0.8702 - val_loss: 0.3562\n",
      "Epoch 18/30\n",
      "\u001b[1m1719/1719\u001b[0m \u001b[32m━━━━━━━━━━━━━━━━━━━━\u001b[0m\u001b[37m\u001b[0m \u001b[1m5s\u001b[0m 3ms/step - accuracy: 0.9019 - loss: 0.2789 - val_accuracy: 0.8714 - val_loss: 0.3544\n",
      "Epoch 19/30\n",
      "\u001b[1m1719/1719\u001b[0m \u001b[32m━━━━━━━━━━━━━━━━━━━━\u001b[0m\u001b[37m\u001b[0m \u001b[1m6s\u001b[0m 3ms/step - accuracy: 0.9035 - loss: 0.2734 - val_accuracy: 0.8704 - val_loss: 0.3526\n",
      "Epoch 20/30\n",
      "\u001b[1m1719/1719\u001b[0m \u001b[32m━━━━━━━━━━━━━━━━━━━━\u001b[0m\u001b[37m\u001b[0m \u001b[1m5s\u001b[0m 3ms/step - accuracy: 0.9056 - loss: 0.2679 - val_accuracy: 0.8708 - val_loss: 0.3515\n",
      "Epoch 21/30\n",
      "\u001b[1m1719/1719\u001b[0m \u001b[32m━━━━━━━━━━━━━━━━━━━━\u001b[0m\u001b[37m\u001b[0m \u001b[1m5s\u001b[0m 3ms/step - accuracy: 0.9069 - loss: 0.2628 - val_accuracy: 0.8718 - val_loss: 0.3502\n",
      "Epoch 22/30\n",
      "\u001b[1m1719/1719\u001b[0m \u001b[32m━━━━━━━━━━━━━━━━━━━━\u001b[0m\u001b[37m\u001b[0m \u001b[1m5s\u001b[0m 3ms/step - accuracy: 0.9092 - loss: 0.2578 - val_accuracy: 0.8726 - val_loss: 0.3493\n",
      "Epoch 23/30\n",
      "\u001b[1m1719/1719\u001b[0m \u001b[32m━━━━━━━━━━━━━━━━━━━━\u001b[0m\u001b[37m\u001b[0m \u001b[1m5s\u001b[0m 3ms/step - accuracy: 0.9107 - loss: 0.2530 - val_accuracy: 0.8724 - val_loss: 0.3488\n",
      "Epoch 24/30\n",
      "\u001b[1m1719/1719\u001b[0m \u001b[32m━━━━━━━━━━━━━━━━━━━━\u001b[0m\u001b[37m\u001b[0m \u001b[1m5s\u001b[0m 3ms/step - accuracy: 0.9127 - loss: 0.2482 - val_accuracy: 0.8730 - val_loss: 0.3495\n",
      "Epoch 25/30\n",
      "\u001b[1m1719/1719\u001b[0m \u001b[32m━━━━━━━━━━━━━━━━━━━━\u001b[0m\u001b[37m\u001b[0m \u001b[1m5s\u001b[0m 3ms/step - accuracy: 0.9139 - loss: 0.2439 - val_accuracy: 0.8724 - val_loss: 0.3505\n",
      "Epoch 26/30\n",
      "\u001b[1m1719/1719\u001b[0m \u001b[32m━━━━━━━━━━━━━━━━━━━━\u001b[0m\u001b[37m\u001b[0m \u001b[1m5s\u001b[0m 3ms/step - accuracy: 0.9156 - loss: 0.2395 - val_accuracy: 0.8714 - val_loss: 0.3517\n",
      "Epoch 27/30\n",
      "\u001b[1m1719/1719\u001b[0m \u001b[32m━━━━━━━━━━━━━━━━━━━━\u001b[0m\u001b[37m\u001b[0m \u001b[1m5s\u001b[0m 3ms/step - accuracy: 0.9169 - loss: 0.2354 - val_accuracy: 0.8718 - val_loss: 0.3515\n",
      "Epoch 28/30\n",
      "\u001b[1m1719/1719\u001b[0m \u001b[32m━━━━━━━━━━━━━━━━━━━━\u001b[0m\u001b[37m\u001b[0m \u001b[1m5s\u001b[0m 3ms/step - accuracy: 0.9193 - loss: 0.2313 - val_accuracy: 0.8724 - val_loss: 0.3490\n",
      "Epoch 29/30\n",
      "\u001b[1m1719/1719\u001b[0m \u001b[32m━━━━━━━━━━━━━━━━━━━━\u001b[0m\u001b[37m\u001b[0m \u001b[1m5s\u001b[0m 3ms/step - accuracy: 0.9204 - loss: 0.2272 - val_accuracy: 0.8718 - val_loss: 0.3491\n",
      "Epoch 30/30\n",
      "\u001b[1m1719/1719\u001b[0m \u001b[32m━━━━━━━━━━━━━━━━━━━━\u001b[0m\u001b[37m\u001b[0m \u001b[1m5s\u001b[0m 3ms/step - accuracy: 0.9221 - loss: 0.2233 - val_accuracy: 0.8722 - val_loss: 0.3494\n"
     ]
    }
   ],
   "source": [
    "history = model.fit(X_train, y_train, epochs=30, validation_data=(X_valid, y_valid))"
   ]
  },
  {
   "cell_type": "markdown",
   "id": "796d9446-9916-41fd-95be-6d4ba5c7e1d9",
   "metadata": {},
   "source": [
    "And that’s it! The neural network is trained. At each epoch during training,\n",
    "Keras displays the number of mini-batches processed so far on the left side of\n",
    "the progress bar. The batch size is 32 by default, and since the training set has\n",
    "55,000 images, the model goes through 1,719 batches per epoch: 1,718 of\n",
    "size 32, and 1 of size 24. After the progress bar, you can see the mean\n",
    "training time per sample, and the loss and accuracy (or any other extra\n",
    "metrics you asked for) on both the training set and the validation set. Notice\n",
    "that the training loss went down, which is a good sign, and the validation\n",
    "accuracy reached 88.94% after 30 epochs. That’s slightly below the training\n",
    "accuracy, so there is a little bit of overfitting going on, but not a huge\n",
    "amount."
   ]
  },
  {
   "cell_type": "markdown",
   "id": "9a93e8dd-6bbe-4ae9-a486-337ab74a18a2",
   "metadata": {},
   "source": [
    "We pass it the input features (X_train) and the target classes (y_train), as well\n",
    "as the number of epochs to train (or else it would default to just 1, which\n",
    "would definitely not be enough to converge to a good solution). We also pass\n",
    "a validation set (this is optional). Keras will measure the loss and the extra\n",
    "metrics on this set at the end of each epoch, which is very useful to see how\n",
    "well the model really performs. If the performance on the training set is much\n",
    "better than on the validation set, your model is probably overfitting the\n",
    "training set, or there is a bug, such as a data mismatch between the training\n",
    "set and the validation set.\n"
   ]
  },
  {
   "cell_type": "markdown",
   "id": "96a13d9a-4f2e-45bf-b3f1-a7e9445c6ff1",
   "metadata": {},
   "source": [
    "**Tip:** Shape errors are quite common, especially when getting started, so you should familiarize\n",
    "yourself with the error messages: try fitting a model with inputs and/or labels of the wrong\n",
    "shape, and see the errors you get. Similarly, try compiling the model with\n",
    "loss=\"categorical_crossentropy\" instead of loss=\"sparse_cat egorical_crossentropy\". Or\n",
    "you can remove the Flatten layer.\n"
   ]
  },
  {
   "cell_type": "markdown",
   "id": "d6992da2-9c3f-45f2-bb68-6687c713282a",
   "metadata": {},
   "source": [
    "**Tip:** Instead of passing a validation set using the validation_data argument, you could set\n",
    "validation_split to the ratio of the training set that you want Keras to use for validation.\n",
    "For example, validation_split=0.1 tells Keras to use the last 10% of the data (before\n",
    "shuffling) for validation."
   ]
  },
  {
   "cell_type": "markdown",
   "id": "d7a33272-eac9-435c-89e2-a5f97a88ab7c",
   "metadata": {},
   "source": [
    "If the training set was very skewed, with some classes being overrepresented\n",
    "and others underrepresented, it would be useful to set the class_weight\n",
    "argument when calling the fit() method, to give a larger weight to\n",
    "underrepresented classes and a lower weight to overrepresented classes.\n",
    "These weights would be used by Keras when computing the loss. If you need\n",
    "per-instance weights, set the sample_weight argument. If both class_weight\n",
    "and sample_weight are provided, then Keras multiplies them. Per-instance\n",
    "weights could be useful, for example, if some instances were labeled by\n",
    "experts while others were labeled using a crowdsourcing platform: you might\n",
    "want to give more weight to the former. You can also provide sample weights\n",
    "(but not class weights) for the validation set by adding them as a third item in\n",
    "the validation_data tuple.\n",
    "\n",
    "The fit() method returns a History object containing the training parameters\n",
    "(history.params), the list of epochs it went through (history.epoch), and most\n",
    "importantly a dictionary (history.history) containing the loss and extra\n",
    "metrics it measured at the end of each epoch on the training set and on the\n",
    "validation set (if any). If you use this dictionary to create a Pandas DataFrame\n",
    "and call its plot() method, you get the learning curves shown in the Figure below:"
   ]
  },
  {
   "cell_type": "code",
   "execution_count": 50,
   "id": "beb130dc-a9f1-45d7-90ac-8449f06c020f",
   "metadata": {},
   "outputs": [
    {
     "data": {
      "text/plain": [
       "{'verbose': 'auto', 'epochs': 30, 'steps': 1719}"
      ]
     },
     "execution_count": 50,
     "metadata": {},
     "output_type": "execute_result"
    }
   ],
   "source": [
    "history.params"
   ]
  },
  {
   "cell_type": "code",
   "execution_count": 51,
   "id": "57b419d6-338d-49e3-93dc-249c1253d1b6",
   "metadata": {},
   "outputs": [
    {
     "data": {
      "image/png": "[encoded data removed]",
      "text/plain": [
       "<Figure size 800x500 with 1 Axes>"
      ]
     },
     "metadata": {},
     "output_type": "display_data"
    }
   ],
   "source": [
    "import matplotlib.pyplot as plt\n",
    "import pandas as pd\n",
    "\n",
    "pd.DataFrame(history.history).plot(figsize=(8, 5), xlim=[0, 29], ylim=[0, 1], grid=True, xlabel=\"Epoch\", style=[\"r--\", \"r--.\", \"b-\", \"b-*\"])\n",
    "plt.legend(loc=\"lower left\")  #\n",
    "plt.show()"
   ]
  },
  {
   "cell_type": "markdown",
   "id": "45e6d072-a99c-4689-8660-ac99469e3901",
   "metadata": {},
   "source": [
    "\n",
    "You can see that both the training accuracy and the validation accuracy\n",
    "steadily increase during training, while the training loss and the validation\n",
    "loss decrease. This is good. The validation curves are relatively close to each\n",
    "other at first, but they get further apart over time, which shows that there’s a\n",
    "little bit of overfitting. In this particular case, the model looks like it\n",
    "performed better on the validation set than on the training set at the beginning\n",
    "of training, but that’s not actually the case. The validation error is computed\n",
    "at the end of each epoch, while the training error is computed using a running\n",
    "mean during each epoch, so the training curve should be shifted by half an\n",
    "epoch to the left. If you do that, you will see that the training and validation\n",
    "curves overlap almost perfectly at the beginning of training.\n",
    "\n",
    "    \n",
    "The training set performance ends up beating the validation performance, as\n",
    "is generally the case when you train for long enough. You can tell that the\n",
    "model has not quite converged yet, as the validation loss is still going down,\n",
    "so you should probably continue training. This is as simple as calling the fit()\n",
    "method again, since Keras just continues training where it left off: you should\n",
    "be able to reach about 89.8% validation accuracy, while the training accuracy\n",
    "will continue to rise up to 100% (this is not always the case).\n",
    "\n",
    "                                  \n",
    "If you are not satisfied with the performance of your model, you should go\n",
    "back and tune the hyperparameters. The first one to check is the learning rate.\n",
    "If that doesn’t help, try another optimizer (and always retune the learning rate\n",
    "after changing any hyperparameter). \n",
    "\n",
    "If the performance is still not great, then\n",
    "try tuning model hyperparameters such as the number of layers, the number\n",
    "of neurons per layer, and the types of activation functions to use for each\n",
    "hidden layer. You can also try tuning other hyperparameters, such as the\n",
    "batch size (it can be set in the fit() method using the batch_size argument,\n",
    "which defaults to 32). We will get back to hyperparameter tuning at the end\n",
    "of this chapter. \n",
    "\n",
    "Once you are satisfied with your model’s validation accuracy,\n",
    "you should evaluate it on the test set to estimate the generalization error\n",
    "before you deploy the model to production. You can easily do this using the\n",
    "evaluate() method (it also supports several other arguments, such as\n",
    "batch_size and sample_weight."
   ]
  },
  {
   "cell_type": "code",
   "execution_count": 53,
   "id": "91d9959e-0eca-4cca-aeb0-617a9c3f8f42",
   "metadata": {},
   "outputs": [
    {
     "name": "stdout",
     "output_type": "stream",
     "text": [
      "\u001b[1m313/313\u001b[0m \u001b[32m━━━━━━━━━━━━━━━━━━━━\u001b[0m\u001b[37m\u001b[0m \u001b[1m1s\u001b[0m 2ms/step - accuracy: 0.8781 - loss: 0.3611\n"
     ]
    },
    {
     "data": {
      "text/plain": [
       "[0.36300474405288696, 0.8762999773025513]"
      ]
     },
     "execution_count": 53,
     "metadata": {},
     "output_type": "execute_result"
    }
   ],
   "source": [
    "model.evaluate(X_test, y_test)"
   ]
  },
  {
   "cell_type": "markdown",
   "id": "24a3e182-c6eb-4a2a-86b7-d601236473b3",
   "metadata": {},
   "source": [
    "It is common to get slightly lower performance on\n",
    "the test set than on the validation set, because the hyperparameters are tuned\n",
    "on the validation set, not the test set (however, in this example, we did not do\n",
    "any hyperparameter tuning, so the lower accuracy is just bad luck).\n",
    "Remember to resist the temptation to tweak the hyperparameters on the test\n",
    "set, or else your estimate of the generalization error will be too optimistic.\n"
   ]
  },
  {
   "cell_type": "markdown",
   "id": "c981a650-66bc-482b-bc3e-eb0b5e1c6699",
   "metadata": {},
   "source": [
    "## Using the model to make predictions"
   ]
  },
  {
   "cell_type": "markdown",
   "id": "fff1f6bd-aaf4-4539-bb95-02e55d6ef74a",
   "metadata": {},
   "source": [
    "Now let’s use the model’s predict() method to make predictions on new\n",
    "instances. Since we don’t have actual new instances, we’ll just use the last\n",
    "three instances of the test set:\n"
   ]
  },
  {
   "cell_type": "code",
   "execution_count": 65,
   "id": "d29885e1-f0e3-4727-bc36-dc4cc9ae742d",
   "metadata": {},
   "outputs": [
    {
     "name": "stdout",
     "output_type": "stream",
     "text": [
      "\u001b[1m1/1\u001b[0m \u001b[32m━━━━━━━━━━━━━━━━━━━━\u001b[0m\u001b[37m\u001b[0m \u001b[1m0s\u001b[0m 31ms/step\n"
     ]
    },
    {
     "data": {
      "text/plain": [
       "array([[0., 0., 0., 0., 0., 0., 0., 0., 1., 0.],\n",
       "       [0., 1., 0., 0., 0., 0., 0., 0., 0., 0.],\n",
       "       [0., 0., 0., 0., 0., 1., 0., 0., 0., 0.]], dtype=float32)"
      ]
     },
     "execution_count": 65,
     "metadata": {},
     "output_type": "execute_result"
    }
   ],
   "source": [
    "X_new = X_test[-3:]\n",
    "y_proba = model.predict(X_new)\n",
    "y_proba.round(2)"
   ]
  },
  {
   "cell_type": "code",
   "execution_count": 66,
   "id": "9c41d9a5-4fed-4b53-9a15-0a46ad7ca8ef",
   "metadata": {},
   "outputs": [
    {
     "data": {
      "text/plain": [
       "array([8, 1, 5], dtype=int64)"
      ]
     },
     "execution_count": 66,
     "metadata": {},
     "output_type": "execute_result"
    }
   ],
   "source": [
    "y_pred = y_proba.argmax(axis=-1)\n",
    "y_pred"
   ]
  },
  {
   "cell_type": "code",
   "execution_count": 67,
   "id": "363f731b-2b85-4b4a-bd89-e4e7930aaf70",
   "metadata": {},
   "outputs": [
    {
     "data": {
      "text/plain": [
       "array(['Bag', 'Trouser', 'Sandal'], dtype='<U11')"
      ]
     },
     "execution_count": 67,
     "metadata": {},
     "output_type": "execute_result"
    }
   ],
   "source": [
    "np.array(class_names)[y_pred]"
   ]
  },
  {
   "cell_type": "code",
   "execution_count": 68,
   "id": "fcdedac9-253e-46d1-b029-ec60d1f51ea3",
   "metadata": {},
   "outputs": [
    {
     "data": {
      "text/plain": [
       "array([8, 1, 5], dtype=uint8)"
      ]
     },
     "execution_count": 68,
     "metadata": {},
     "output_type": "execute_result"
    }
   ],
   "source": [
    "y_new = y_test[-3:]\n",
    "y_new"
   ]
  },
  {
   "cell_type": "code",
   "execution_count": 69,
   "id": "9f973113-b5fd-4bf4-a95f-d54e7bc293c2",
   "metadata": {},
   "outputs": [
    {
     "data": {
      "image/png": "[encoded data removed]",
      "text/plain": [
       "<Figure size 720x240 with 3 Axes>"
      ]
     },
     "metadata": {},
     "output_type": "display_data"
    }
   ],
   "source": [
    "plt.figure(figsize=(7.2, 2.4))\n",
    "for index, image in enumerate(X_new):\n",
    "    plt.subplot(1, 3, index + 1)\n",
    "    plt.imshow(image, cmap=\"binary\", interpolation=\"nearest\")\n",
    "    plt.axis('off')\n",
    "    plt.title(class_names[y_test[index]])\n",
    "plt.subplots_adjust(wspace=0.2, hspace=0.5)\n",
    "plt.show()"
   ]
  },
  {
   "cell_type": "markdown",
   "id": "c7781efa-e898-4c0e-9f82-17002a5feb94",
   "metadata": {},
   "source": [
    "Here, the classifier actually classified all three images correctly."
   ]
  },
  {
   "cell_type": "markdown",
   "id": "1523bbd7-074a-4d4c-a4c1-46d9b245893b",
   "metadata": {},
   "source": [
    "Now you know how to use the sequential API to build, train, and evaluate a\n",
    "classification MLP. But what about regression?"
   ]
  },
  {
   "cell_type": "markdown",
   "id": "e4cf55e4-022c-402f-be00-9f7af6eaa6a7",
   "metadata": {},
   "source": [
    "# Building a Regression MLP Using the Sequential API"
   ]
  },
  {
   "cell_type": "markdown",
   "id": "9e9b89d9-1f98-4a57-af25-3e6f0fd37cfa",
   "metadata": {},
   "source": [
    "Let’s switch back to the California housing problem and tackle it using the\n",
    "same MLP as earlier, with 3 hidden layers composed of 50 neurons each, but\n",
    "this time building it with Keras.\n",
    "\n",
    "Using the sequential API to build, train, evaluate, and use a regression MLP\n",
    "is quite similar to what we did for classification. The main differences in the\n",
    "following code example are the fact that the output layer has a single neuron\n",
    "(since we only want to predict a single value) and it uses no activation\n",
    "function, the loss function is the mean squared error, the metric is the RMSE,\n",
    "and we’re using an Adam optimizer like Scikit-Learn’s MLPRegressor did.\n",
    "Moreover, in this example we don’t need a Flatten layer, and instead we’re\n",
    "using a Normalization layer as the first layer: it does the same thing as ScikitLearn’s StandardScaler, but it must be fitted to the training data using its\n",
    "adapt() method before you call the model’s fit() method. (Keras has other\n",
    "preprocessing layers which we will see othertimes). Let’s take a look:"
   ]
  },
  {
   "cell_type": "markdown",
   "id": "235b2960-f55f-4f76-9842-13e2bfb46261",
   "metadata": {},
   "source": [
    "Let's load, split and scale the California housing dataset:"
   ]
  },
  {
   "cell_type": "code",
   "execution_count": 70,
   "id": "71d95d5e-87fe-4b4d-b6bc-c8e60b9907cd",
   "metadata": {},
   "outputs": [],
   "source": [
    "# load and split the California housing dataset, like earlier\n",
    "housing = fetch_california_housing()\n",
    "X_train_full, X_test, y_train_full, y_test = train_test_split(housing.data, housing.target, random_state=42)\n",
    "X_train, X_valid, y_train, y_valid = train_test_split(X_train_full, y_train_full, random_state=42)"
   ]
  },
  {
   "cell_type": "code",
   "execution_count": 73,
   "id": "af8d457e-e537-4884-90b3-74c271168244",
   "metadata": {},
   "outputs": [],
   "source": [
    "tf.random.set_seed(42)\n",
    "norm_layer = tf.keras.layers.Normalization(input_shape=X_train.shape[1:])\n",
    "model = tf.keras.Sequential([\n",
    "    norm_layer,\n",
    "    tf.keras.layers.Dense(50, activation=\"relu\"),\n",
    "    tf.keras.layers.Dense(50, activation=\"relu\"),\n",
    "    tf.keras.layers.Dense(50, activation=\"relu\"),\n",
    "    tf.keras.layers.Dense(1)\n",
    "])\n",
    "\n",
    "optimizer = tf.keras.optimizers.Adam(learning_rate=1e-3)\n"
   ]
  },
  {
   "cell_type": "code",
   "execution_count": 74,
   "id": "78e8498d-886b-4c60-9a31-1a08bdb8680b",
   "metadata": {},
   "outputs": [
    {
     "name": "stdout",
     "output_type": "stream",
     "text": [
      "Epoch 1/20\n",
      "\u001b[1m363/363\u001b[0m \u001b[32m━━━━━━━━━━━━━━━━━━━━\u001b[0m\u001b[37m\u001b[0m \u001b[1m2s\u001b[0m 2ms/step - RootMeanSquaredError: 1.2533 - loss: 1.6926 - val_RootMeanSquaredError: 0.6183 - val_loss: 0.3823\n",
      "Epoch 2/20\n",
      "\u001b[1m363/363\u001b[0m \u001b[32m━━━━━━━━━━━━━━━━━━━━\u001b[0m\u001b[37m\u001b[0m \u001b[1m1s\u001b[0m 2ms/step - RootMeanSquaredError: 0.6393 - loss: 0.4092 - val_RootMeanSquaredError: 1.0750 - val_loss: 1.1557\n",
      "Epoch 3/20\n",
      "\u001b[1m363/363\u001b[0m \u001b[32m━━━━━━━━━━━━━━━━━━━━\u001b[0m\u001b[37m\u001b[0m \u001b[1m1s\u001b[0m 2ms/step - RootMeanSquaredError: 0.6139 - loss: 0.3772 - val_RootMeanSquaredError: 1.3262 - val_loss: 1.7588\n",
      "Epoch 4/20\n",
      "\u001b[1m363/363\u001b[0m \u001b[32m━━━━━━━━━━━━━━━━━━━━\u001b[0m\u001b[37m\u001b[0m \u001b[1m1s\u001b[0m 2ms/step - RootMeanSquaredError: 0.6033 - loss: 0.3641 - val_RootMeanSquaredError: 1.1481 - val_loss: 1.3181\n",
      "Epoch 5/20\n",
      "\u001b[1m363/363\u001b[0m \u001b[32m━━━━━━━━━━━━━━━━━━━━\u001b[0m\u001b[37m\u001b[0m \u001b[1m1s\u001b[0m 2ms/step - RootMeanSquaredError: 0.5943 - loss: 0.3533 - val_RootMeanSquaredError: 0.9319 - val_loss: 0.8685\n",
      "Epoch 6/20\n",
      "\u001b[1m363/363\u001b[0m \u001b[32m━━━━━━━━━━━━━━━━━━━━\u001b[0m\u001b[37m\u001b[0m \u001b[1m1s\u001b[0m 2ms/step - RootMeanSquaredError: 0.5823 - loss: 0.3392 - val_RootMeanSquaredError: 0.7857 - val_loss: 0.6173\n",
      "Epoch 7/20\n",
      "\u001b[1m363/363\u001b[0m \u001b[32m━━━━━━━━━━━━━━━━━━━━\u001b[0m\u001b[37m\u001b[0m \u001b[1m1s\u001b[0m 2ms/step - RootMeanSquaredError: 0.5748 - loss: 0.3305 - val_RootMeanSquaredError: 1.1162 - val_loss: 1.2459\n",
      "Epoch 8/20\n",
      "\u001b[1m363/363\u001b[0m \u001b[32m━━━━━━━━━━━━━━━━━━━━\u001b[0m\u001b[37m\u001b[0m \u001b[1m1s\u001b[0m 2ms/step - RootMeanSquaredError: 0.5704 - loss: 0.3254 - val_RootMeanSquaredError: 0.8509 - val_loss: 0.7240\n",
      "Epoch 9/20\n",
      "\u001b[1m363/363\u001b[0m \u001b[32m━━━━━━━━━━━━━━━━━━━━\u001b[0m\u001b[37m\u001b[0m \u001b[1m1s\u001b[0m 2ms/step - RootMeanSquaredError: 0.5607 - loss: 0.3144 - val_RootMeanSquaredError: 0.8971 - val_loss: 0.8048\n",
      "Epoch 10/20\n",
      "\u001b[1m363/363\u001b[0m \u001b[32m━━━━━━━━━━━━━━━━━━━━\u001b[0m\u001b[37m\u001b[0m \u001b[1m1s\u001b[0m 2ms/step - RootMeanSquaredError: 0.5520 - loss: 0.3048 - val_RootMeanSquaredError: 0.5867 - val_loss: 0.3442\n",
      "Epoch 11/20\n",
      "\u001b[1m363/363\u001b[0m \u001b[32m━━━━━━━━━━━━━━━━━━━━\u001b[0m\u001b[37m\u001b[0m \u001b[1m1s\u001b[0m 2ms/step - RootMeanSquaredError: 0.5468 - loss: 0.2990 - val_RootMeanSquaredError: 0.6638 - val_loss: 0.4406\n",
      "Epoch 12/20\n",
      "\u001b[1m363/363\u001b[0m \u001b[32m━━━━━━━━━━━━━━━━━━━━\u001b[0m\u001b[37m\u001b[0m \u001b[1m1s\u001b[0m 2ms/step - RootMeanSquaredError: 0.5432 - loss: 0.2951 - val_RootMeanSquaredError: 0.6882 - val_loss: 0.4736\n",
      "Epoch 13/20\n",
      "\u001b[1m363/363\u001b[0m \u001b[32m━━━━━━━━━━━━━━━━━━━━\u001b[0m\u001b[37m\u001b[0m \u001b[1m1s\u001b[0m 2ms/step - RootMeanSquaredError: 0.5381 - loss: 0.2896 - val_RootMeanSquaredError: 0.7931 - val_loss: 0.6290\n",
      "Epoch 14/20\n",
      "\u001b[1m363/363\u001b[0m \u001b[32m━━━━━━━━━━━━━━━━━━━━\u001b[0m\u001b[37m\u001b[0m \u001b[1m1s\u001b[0m 2ms/step - RootMeanSquaredError: 0.5342 - loss: 0.2854 - val_RootMeanSquaredError: 0.6012 - val_loss: 0.3614\n",
      "Epoch 15/20\n",
      "\u001b[1m363/363\u001b[0m \u001b[32m━━━━━━━━━━━━━━━━━━━━\u001b[0m\u001b[37m\u001b[0m \u001b[1m1s\u001b[0m 3ms/step - RootMeanSquaredError: 0.5313 - loss: 0.2823 - val_RootMeanSquaredError: 1.0069 - val_loss: 1.0139\n",
      "Epoch 16/20\n",
      "\u001b[1m363/363\u001b[0m \u001b[32m━━━━━━━━━━━━━━━━━━━━\u001b[0m\u001b[37m\u001b[0m \u001b[1m1s\u001b[0m 2ms/step - RootMeanSquaredError: 0.5307 - loss: 0.2817 - val_RootMeanSquaredError: 0.6548 - val_loss: 0.4287\n",
      "Epoch 17/20\n",
      "\u001b[1m363/363\u001b[0m \u001b[32m━━━━━━━━━━━━━━━━━━━━\u001b[0m\u001b[37m\u001b[0m \u001b[1m1s\u001b[0m 3ms/step - RootMeanSquaredError: 0.5243 - loss: 0.2750 - val_RootMeanSquaredError: 0.7386 - val_loss: 0.5456\n",
      "Epoch 18/20\n",
      "\u001b[1m363/363\u001b[0m \u001b[32m━━━━━━━━━━━━━━━━━━━━\u001b[0m\u001b[37m\u001b[0m \u001b[1m1s\u001b[0m 2ms/step - RootMeanSquaredError: 0.5222 - loss: 0.2728 - val_RootMeanSquaredError: 0.6521 - val_loss: 0.4253\n",
      "Epoch 19/20\n",
      "\u001b[1m363/363\u001b[0m \u001b[32m━━━━━━━━━━━━━━━━━━━━\u001b[0m\u001b[37m\u001b[0m \u001b[1m1s\u001b[0m 2ms/step - RootMeanSquaredError: 0.5199 - loss: 0.2703 - val_RootMeanSquaredError: 0.7114 - val_loss: 0.5062\n",
      "Epoch 20/20\n",
      "\u001b[1m363/363\u001b[0m \u001b[32m━━━━━━━━━━━━━━━━━━━━\u001b[0m\u001b[37m\u001b[0m \u001b[1m1s\u001b[0m 2ms/step - RootMeanSquaredError: 0.5173 - loss: 0.2677 - val_RootMeanSquaredError: 0.5929 - val_loss: 0.3516\n",
      "\u001b[1m162/162\u001b[0m \u001b[32m━━━━━━━━━━━━━━━━━━━━\u001b[0m\u001b[37m\u001b[0m \u001b[1m0s\u001b[0m 2ms/step - RootMeanSquaredError: 0.5304 - loss: 0.2815\n",
      "\u001b[1m1/1\u001b[0m \u001b[32m━━━━━━━━━━━━━━━━━━━━\u001b[0m\u001b[37m\u001b[0m \u001b[1m0s\u001b[0m 63ms/step\n"
     ]
    }
   ],
   "source": [
    "model.compile(loss=\"mse\", optimizer=optimizer, metrics=[\"RootMeanSquaredError\"])\n",
    "norm_layer.adapt(X_train)\n",
    "history = model.fit(X_train, y_train, epochs=20,\n",
    "                    validation_data=(X_valid, y_valid))\n",
    "mse_test, rmse_test = model.evaluate(X_test, y_test)\n",
    "X_new = X_test[:3]\n",
    "y_pred = model.predict(X_new)"
   ]
  },
  {
   "cell_type": "code",
   "execution_count": 75,
   "id": "67a6a56c-9fa3-40fd-a7fb-d7deff41d233",
   "metadata": {},
   "outputs": [
    {
     "name": "stdout",
     "output_type": "stream",
     "text": [
      "\u001b[1m1/1\u001b[0m \u001b[32m━━━━━━━━━━━━━━━━━━━━\u001b[0m\u001b[37m\u001b[0m \u001b[1m0s\u001b[0m 42ms/step\n"
     ]
    }
   ],
   "source": [
    "X_new = X_test[:3]\n",
    "y_pred = model.predict(X_new)"
   ]
  },
  {
   "cell_type": "markdown",
   "id": "b80d197e-6f43-4a8d-82d4-3a129afe69ec",
   "metadata": {},
   "source": [
    "# Building Complex Models Using the Functional API"
   ]
  },
  {
   "cell_type": "markdown",
   "id": "c7ed6915-ea61-40ed-a842-6de4edbadeb8",
   "metadata": {},
   "source": [
    "One example of a nonsequential neural network is a Wide & Deep neural\n",
    "network. This neural network architecture was introduced in a 2016 paper by\n",
    "Heng-Tze Cheng et al. It connects all or part of the inputs directly to the\n",
    "output layer. This architecture makes it possible\n",
    "for the neural network to learn both deep patterns (using the deep path) and\n",
    "simple rules (through the short path). In contrast, a regular MLP forces all\n",
    "the data to flow through the full stack of layers; thus, simple patterns in the\n",
    "data may end up being distorted by this sequence of transformations."
   ]
  },
  {
   "cell_type": "markdown",
   "id": "5b6cfe51-61a8-4042-a32e-9ae2d45c5f41",
   "metadata": {},
   "source": [
    "Let’s build such a neural network to tackle the California housing problem:\n"
   ]
  },
  {
   "cell_type": "code",
   "execution_count": 76,
   "id": "15be118e-875d-47ec-b7c7-190d3cbe6987",
   "metadata": {},
   "outputs": [],
   "source": [
    "# extra code – reset the name counters and make the code reproducible\n",
    "tf.keras.backend.clear_session()\n",
    "tf.random.set_seed(42)"
   ]
  },
  {
   "cell_type": "code",
   "execution_count": 77,
   "id": "50a8b24a-fc3b-4173-99c7-fe448eecbc57",
   "metadata": {},
   "outputs": [],
   "source": [
    "normalization_layer = tf.keras.layers.Normalization()\n",
    "hidden_layer1 = tf.keras.layers.Dense(30, activation=\"relu\")\n",
    "hidden_layer2 = tf.keras.layers.Dense(30, activation=\"relu\")\n",
    "concat_layer = tf.keras.layers.Concatenate()\n",
    "output_layer = tf.keras.layers.Dense(1)\n",
    "\n",
    "input_ = tf.keras.layers.Input(shape=X_train.shape[1:])\n",
    "normalized = normalization_layer(input_)\n",
    "hidden1 = hidden_layer1(normalized)\n",
    "hidden2 = hidden_layer2(hidden1)\n",
    "concat = concat_layer([normalized, hidden2])\n",
    "output = output_layer(concat)\n",
    "\n",
    "model = tf.keras.Model(inputs=[input_], outputs=[output])"
   ]
  },
  {
   "cell_type": "markdown",
   "id": "a3e4b161-83a4-488e-83ab-e1070ede7799",
   "metadata": {},
   "source": [
    "At a high level, the first five lines create all the layers we need to build the\n",
    "model, the next six lines use these layers just like functions to go from the\n",
    "input to the output, and the last line creates a Keras Model object by pointing\n",
    "to the input and the output."
   ]
  },
  {
   "cell_type": "code",
   "execution_count": 78,
   "id": "c3b050ad-c9ac-473a-bacd-057f6c28a7e1",
   "metadata": {},
   "outputs": [
    {
     "data": {
      "text/html": [
       "<pre style=\"white-space:pre;overflow-x:auto;line-height:normal;font-family:Menlo,'DejaVu Sans Mono',consolas,'Courier New',monospace\"><span style=\"font-weight: bold\">Model: \"functional\"</span>\n",
       "</pre>\n"
      ],
      "text/plain": [
       "\u001b[1mModel: \"functional\"\u001b[0m\n"
      ]
     },
     "metadata": {},
     "output_type": "display_data"
    },
    {
     "data": {
      "text/html": [
       "<pre style=\"white-space:pre;overflow-x:auto;line-height:normal;font-family:Menlo,'DejaVu Sans Mono',consolas,'Courier New',monospace\">┏━━━━━━━━━━━━━━━━━━━━━━━━━━━━━━━┳━━━━━━━━━━━━━━━━━━━━━━━━━━━┳━━━━━━━━━━━━━━━━━┳━━━━━━━━━━━━━━━━━━━━━━━━━━━━┓\n",
       "┃<span style=\"font-weight: bold\"> Layer (type)                  </span>┃<span style=\"font-weight: bold\"> Output Shape              </span>┃<span style=\"font-weight: bold\">         Param # </span>┃<span style=\"font-weight: bold\"> Connected to               </span>┃\n",
       "┡━━━━━━━━━━━━━━━━━━━━━━━━━━━━━━━╇━━━━━━━━━━━━━━━━━━━━━━━━━━━╇━━━━━━━━━━━━━━━━━╇━━━━━━━━━━━━━━━━━━━━━━━━━━━━┩\n",
       "│ input_layer (<span style=\"color: #0087ff; text-decoration-color: #0087ff\">InputLayer</span>)      │ (<span style=\"color: #00d7ff; text-decoration-color: #00d7ff\">None</span>, <span style=\"color: #00af00; text-decoration-color: #00af00\">8</span>)                 │               <span style=\"color: #00af00; text-decoration-color: #00af00\">0</span> │ -                          │\n",
       "├───────────────────────────────┼───────────────────────────┼─────────────────┼────────────────────────────┤\n",
       "│ normalization (<span style=\"color: #0087ff; text-decoration-color: #0087ff\">Normalization</span>) │ (<span style=\"color: #00d7ff; text-decoration-color: #00d7ff\">None</span>, <span style=\"color: #00af00; text-decoration-color: #00af00\">8</span>)                 │              <span style=\"color: #00af00; text-decoration-color: #00af00\">17</span> │ input_layer[<span style=\"color: #00af00; text-decoration-color: #00af00\">0</span>][<span style=\"color: #00af00; text-decoration-color: #00af00\">0</span>]          │\n",
       "├───────────────────────────────┼───────────────────────────┼─────────────────┼────────────────────────────┤\n",
       "│ dense (<span style=\"color: #0087ff; text-decoration-color: #0087ff\">Dense</span>)                 │ (<span style=\"color: #00d7ff; text-decoration-color: #00d7ff\">None</span>, <span style=\"color: #00af00; text-decoration-color: #00af00\">30</span>)                │             <span style=\"color: #00af00; text-decoration-color: #00af00\">270</span> │ normalization[<span style=\"color: #00af00; text-decoration-color: #00af00\">0</span>][<span style=\"color: #00af00; text-decoration-color: #00af00\">0</span>]        │\n",
       "├───────────────────────────────┼───────────────────────────┼─────────────────┼────────────────────────────┤\n",
       "│ dense_1 (<span style=\"color: #0087ff; text-decoration-color: #0087ff\">Dense</span>)               │ (<span style=\"color: #00d7ff; text-decoration-color: #00d7ff\">None</span>, <span style=\"color: #00af00; text-decoration-color: #00af00\">30</span>)                │             <span style=\"color: #00af00; text-decoration-color: #00af00\">930</span> │ dense[<span style=\"color: #00af00; text-decoration-color: #00af00\">0</span>][<span style=\"color: #00af00; text-decoration-color: #00af00\">0</span>]                │\n",
       "├───────────────────────────────┼───────────────────────────┼─────────────────┼────────────────────────────┤\n",
       "│ concatenate (<span style=\"color: #0087ff; text-decoration-color: #0087ff\">Concatenate</span>)     │ (<span style=\"color: #00d7ff; text-decoration-color: #00d7ff\">None</span>, <span style=\"color: #00af00; text-decoration-color: #00af00\">38</span>)                │               <span style=\"color: #00af00; text-decoration-color: #00af00\">0</span> │ normalization[<span style=\"color: #00af00; text-decoration-color: #00af00\">0</span>][<span style=\"color: #00af00; text-decoration-color: #00af00\">0</span>],       │\n",
       "│                               │                           │                 │ dense_1[<span style=\"color: #00af00; text-decoration-color: #00af00\">0</span>][<span style=\"color: #00af00; text-decoration-color: #00af00\">0</span>]              │\n",
       "├───────────────────────────────┼───────────────────────────┼─────────────────┼────────────────────────────┤\n",
       "│ dense_2 (<span style=\"color: #0087ff; text-decoration-color: #0087ff\">Dense</span>)               │ (<span style=\"color: #00d7ff; text-decoration-color: #00d7ff\">None</span>, <span style=\"color: #00af00; text-decoration-color: #00af00\">1</span>)                 │              <span style=\"color: #00af00; text-decoration-color: #00af00\">39</span> │ concatenate[<span style=\"color: #00af00; text-decoration-color: #00af00\">0</span>][<span style=\"color: #00af00; text-decoration-color: #00af00\">0</span>]          │\n",
       "└───────────────────────────────┴───────────────────────────┴─────────────────┴────────────────────────────┘\n",
       "</pre>\n"
      ],
      "text/plain": [
       "┏━━━━━━━━━━━━━━━━━━━━━━━━━━━━━━━┳━━━━━━━━━━━━━━━━━━━━━━━━━━━┳━━━━━━━━━━━━━━━━━┳━━━━━━━━━━━━━━━━━━━━━━━━━━━━┓\n",
       "┃\u001b[1m \u001b[0m\u001b[1mLayer (type)                 \u001b[0m\u001b[1m \u001b[0m┃\u001b[1m \u001b[0m\u001b[1mOutput Shape             \u001b[0m\u001b[1m \u001b[0m┃\u001b[1m \u001b[0m\u001b[1m        Param #\u001b[0m\u001b[1m \u001b[0m┃\u001b[1m \u001b[0m\u001b[1mConnected to              \u001b[0m\u001b[1m \u001b[0m┃\n",
       "┡━━━━━━━━━━━━━━━━━━━━━━━━━━━━━━━╇━━━━━━━━━━━━━━━━━━━━━━━━━━━╇━━━━━━━━━━━━━━━━━╇━━━━━━━━━━━━━━━━━━━━━━━━━━━━┩\n",
       "│ input_layer (\u001b[38;5;33mInputLayer\u001b[0m)      │ (\u001b[38;5;45mNone\u001b[0m, \u001b[38;5;34m8\u001b[0m)                 │               \u001b[38;5;34m0\u001b[0m │ -                          │\n",
       "├───────────────────────────────┼───────────────────────────┼─────────────────┼────────────────────────────┤\n",
       "│ normalization (\u001b[38;5;33mNormalization\u001b[0m) │ (\u001b[38;5;45mNone\u001b[0m, \u001b[38;5;34m8\u001b[0m)                 │              \u001b[38;5;34m17\u001b[0m │ input_layer[\u001b[38;5;34m0\u001b[0m][\u001b[38;5;34m0\u001b[0m]          │\n",
       "├───────────────────────────────┼───────────────────────────┼─────────────────┼────────────────────────────┤\n",
       "│ dense (\u001b[38;5;33mDense\u001b[0m)                 │ (\u001b[38;5;45mNone\u001b[0m, \u001b[38;5;34m30\u001b[0m)                │             \u001b[38;5;34m270\u001b[0m │ normalization[\u001b[38;5;34m0\u001b[0m][\u001b[38;5;34m0\u001b[0m]        │\n",
       "├───────────────────────────────┼───────────────────────────┼─────────────────┼────────────────────────────┤\n",
       "│ dense_1 (\u001b[38;5;33mDense\u001b[0m)               │ (\u001b[38;5;45mNone\u001b[0m, \u001b[38;5;34m30\u001b[0m)                │             \u001b[38;5;34m930\u001b[0m │ dense[\u001b[38;5;34m0\u001b[0m][\u001b[38;5;34m0\u001b[0m]                │\n",
       "├───────────────────────────────┼───────────────────────────┼─────────────────┼────────────────────────────┤\n",
       "│ concatenate (\u001b[38;5;33mConcatenate\u001b[0m)     │ (\u001b[38;5;45mNone\u001b[0m, \u001b[38;5;34m38\u001b[0m)                │               \u001b[38;5;34m0\u001b[0m │ normalization[\u001b[38;5;34m0\u001b[0m][\u001b[38;5;34m0\u001b[0m],       │\n",
       "│                               │                           │                 │ dense_1[\u001b[38;5;34m0\u001b[0m][\u001b[38;5;34m0\u001b[0m]              │\n",
       "├───────────────────────────────┼───────────────────────────┼─────────────────┼────────────────────────────┤\n",
       "│ dense_2 (\u001b[38;5;33mDense\u001b[0m)               │ (\u001b[38;5;45mNone\u001b[0m, \u001b[38;5;34m1\u001b[0m)                 │              \u001b[38;5;34m39\u001b[0m │ concatenate[\u001b[38;5;34m0\u001b[0m][\u001b[38;5;34m0\u001b[0m]          │\n",
       "└───────────────────────────────┴───────────────────────────┴─────────────────┴────────────────────────────┘\n"
      ]
     },
     "metadata": {},
     "output_type": "display_data"
    },
    {
     "data": {
      "text/html": [
       "<pre style=\"white-space:pre;overflow-x:auto;line-height:normal;font-family:Menlo,'DejaVu Sans Mono',consolas,'Courier New',monospace\"><span style=\"font-weight: bold\"> Total params: </span><span style=\"color: #00af00; text-decoration-color: #00af00\">1,256</span> (4.91 KB)\n",
       "</pre>\n"
      ],
      "text/plain": [
       "\u001b[1m Total params: \u001b[0m\u001b[38;5;34m1,256\u001b[0m (4.91 KB)\n"
      ]
     },
     "metadata": {},
     "output_type": "display_data"
    },
    {
     "data": {
      "text/html": [
       "<pre style=\"white-space:pre;overflow-x:auto;line-height:normal;font-family:Menlo,'DejaVu Sans Mono',consolas,'Courier New',monospace\"><span style=\"font-weight: bold\"> Trainable params: </span><span style=\"color: #00af00; text-decoration-color: #00af00\">1,239</span> (4.84 KB)\n",
       "</pre>\n"
      ],
      "text/plain": [
       "\u001b[1m Trainable params: \u001b[0m\u001b[38;5;34m1,239\u001b[0m (4.84 KB)\n"
      ]
     },
     "metadata": {},
     "output_type": "display_data"
    },
    {
     "data": {
      "text/html": [
       "<pre style=\"white-space:pre;overflow-x:auto;line-height:normal;font-family:Menlo,'DejaVu Sans Mono',consolas,'Courier New',monospace\"><span style=\"font-weight: bold\"> Non-trainable params: </span><span style=\"color: #00af00; text-decoration-color: #00af00\">17</span> (72.00 B)\n",
       "</pre>\n"
      ],
      "text/plain": [
       "\u001b[1m Non-trainable params: \u001b[0m\u001b[38;5;34m17\u001b[0m (72.00 B)\n"
      ]
     },
     "metadata": {},
     "output_type": "display_data"
    }
   ],
   "source": [
    "model.summary()"
   ]
  },
  {
   "cell_type": "code",
   "execution_count": 79,
   "id": "150a267e-c90c-45fc-aad8-bf7e7c66be0c",
   "metadata": {},
   "outputs": [
    {
     "name": "stdout",
     "output_type": "stream",
     "text": [
      "Epoch 1/20\n",
      "\u001b[1m363/363\u001b[0m \u001b[32m━━━━━━━━━━━━━━━━━━━━\u001b[0m\u001b[37m\u001b[0m \u001b[1m2s\u001b[0m 2ms/step - RootMeanSquaredError: 1.6513 - loss: 2.9245 - val_RootMeanSquaredError: 0.7117 - val_loss: 0.5066\n",
      "Epoch 2/20\n",
      "\u001b[1m363/363\u001b[0m \u001b[32m━━━━━━━━━━━━━━━━━━━━\u001b[0m\u001b[37m\u001b[0m \u001b[1m1s\u001b[0m 2ms/step - RootMeanSquaredError: 0.7206 - loss: 0.5211 - val_RootMeanSquaredError: 1.4104 - val_loss: 1.9891\n",
      "Epoch 3/20\n",
      "\u001b[1m363/363\u001b[0m \u001b[32m━━━━━━━━━━━━━━━━━━━━\u001b[0m\u001b[37m\u001b[0m \u001b[1m1s\u001b[0m 2ms/step - RootMeanSquaredError: 0.6507 - loss: 0.4240 - val_RootMeanSquaredError: 1.4234 - val_loss: 2.0261\n",
      "Epoch 4/20\n",
      "\u001b[1m363/363\u001b[0m \u001b[32m━━━━━━━━━━━━━━━━━━━━\u001b[0m\u001b[37m\u001b[0m \u001b[1m1s\u001b[0m 2ms/step - RootMeanSquaredError: 0.6288 - loss: 0.3956 - val_RootMeanSquaredError: 1.8607 - val_loss: 3.4621\n",
      "Epoch 5/20\n",
      "\u001b[1m363/363\u001b[0m \u001b[32m━━━━━━━━━━━━━━━━━━━━\u001b[0m\u001b[37m\u001b[0m \u001b[1m1s\u001b[0m 2ms/step - RootMeanSquaredError: 0.6201 - loss: 0.3847 - val_RootMeanSquaredError: 1.6198 - val_loss: 2.6237\n",
      "Epoch 6/20\n",
      "\u001b[1m363/363\u001b[0m \u001b[32m━━━━━━━━━━━━━━━━━━━━\u001b[0m\u001b[37m\u001b[0m \u001b[1m1s\u001b[0m 2ms/step - RootMeanSquaredError: 0.6072 - loss: 0.3689 - val_RootMeanSquaredError: 1.3365 - val_loss: 1.7862\n",
      "Epoch 7/20\n",
      "\u001b[1m363/363\u001b[0m \u001b[32m━━━━━━━━━━━━━━━━━━━━\u001b[0m\u001b[37m\u001b[0m \u001b[1m1s\u001b[0m 2ms/step - RootMeanSquaredError: 0.5981 - loss: 0.3579 - val_RootMeanSquaredError: 1.3780 - val_loss: 1.8990\n",
      "Epoch 8/20\n",
      "\u001b[1m363/363\u001b[0m \u001b[32m━━━━━━━━━━━━━━━━━━━━\u001b[0m\u001b[37m\u001b[0m \u001b[1m1s\u001b[0m 2ms/step - RootMeanSquaredError: 0.5921 - loss: 0.3507 - val_RootMeanSquaredError: 1.3232 - val_loss: 1.7508\n",
      "Epoch 9/20\n",
      "\u001b[1m363/363\u001b[0m \u001b[32m━━━━━━━━━━━━━━━━━━━━\u001b[0m\u001b[37m\u001b[0m \u001b[1m1s\u001b[0m 2ms/step - RootMeanSquaredError: 0.5875 - loss: 0.3452 - val_RootMeanSquaredError: 1.3367 - val_loss: 1.7869\n",
      "Epoch 10/20\n",
      "\u001b[1m363/363\u001b[0m \u001b[32m━━━━━━━━━━━━━━━━━━━━\u001b[0m\u001b[37m\u001b[0m \u001b[1m1s\u001b[0m 2ms/step - RootMeanSquaredError: 0.5834 - loss: 0.3404 - val_RootMeanSquaredError: 1.2334 - val_loss: 1.5213\n",
      "Epoch 11/20\n",
      "\u001b[1m363/363\u001b[0m \u001b[32m━━━━━━━━━━━━━━━━━━━━\u001b[0m\u001b[37m\u001b[0m \u001b[1m1s\u001b[0m 2ms/step - RootMeanSquaredError: 0.5794 - loss: 0.3358 - val_RootMeanSquaredError: 1.2754 - val_loss: 1.6267\n",
      "Epoch 12/20\n",
      "\u001b[1m363/363\u001b[0m \u001b[32m━━━━━━━━━━━━━━━━━━━━\u001b[0m\u001b[37m\u001b[0m \u001b[1m1s\u001b[0m 2ms/step - RootMeanSquaredError: 0.5757 - loss: 0.3316 - val_RootMeanSquaredError: 1.1928 - val_loss: 1.4228\n",
      "Epoch 13/20\n",
      "\u001b[1m363/363\u001b[0m \u001b[32m━━━━━━━━━━━━━━━━━━━━\u001b[0m\u001b[37m\u001b[0m \u001b[1m2s\u001b[0m 2ms/step - RootMeanSquaredError: 0.5726 - loss: 0.3279 - val_RootMeanSquaredError: 1.1882 - val_loss: 1.4118\n",
      "Epoch 14/20\n",
      "\u001b[1m363/363\u001b[0m \u001b[32m━━━━━━━━━━━━━━━━━━━━\u001b[0m\u001b[37m\u001b[0m \u001b[1m1s\u001b[0m 2ms/step - RootMeanSquaredError: 0.5708 - loss: 0.3259 - val_RootMeanSquaredError: 1.0501 - val_loss: 1.1028\n",
      "Epoch 15/20\n",
      "\u001b[1m363/363\u001b[0m \u001b[32m━━━━━━━━━━━━━━━━━━━━\u001b[0m\u001b[37m\u001b[0m \u001b[1m1s\u001b[0m 2ms/step - RootMeanSquaredError: 0.5665 - loss: 0.3210 - val_RootMeanSquaredError: 1.2354 - val_loss: 1.5261\n",
      "Epoch 16/20\n",
      "\u001b[1m363/363\u001b[0m \u001b[32m━━━━━━━━━━━━━━━━━━━━\u001b[0m\u001b[37m\u001b[0m \u001b[1m1s\u001b[0m 2ms/step - RootMeanSquaredError: 0.5646 - loss: 0.3189 - val_RootMeanSquaredError: 1.1840 - val_loss: 1.4017\n",
      "Epoch 17/20\n",
      "\u001b[1m363/363\u001b[0m \u001b[32m━━━━━━━━━━━━━━━━━━━━\u001b[0m\u001b[37m\u001b[0m \u001b[1m1s\u001b[0m 2ms/step - RootMeanSquaredError: 0.5635 - loss: 0.3176 - val_RootMeanSquaredError: 1.2494 - val_loss: 1.5609\n",
      "Epoch 18/20\n",
      "\u001b[1m363/363\u001b[0m \u001b[32m━━━━━━━━━━━━━━━━━━━━\u001b[0m\u001b[37m\u001b[0m \u001b[1m1s\u001b[0m 2ms/step - RootMeanSquaredError: 0.5614 - loss: 0.3153 - val_RootMeanSquaredError: 1.0250 - val_loss: 1.0506\n",
      "Epoch 19/20\n",
      "\u001b[1m363/363\u001b[0m \u001b[32m━━━━━━━━━━━━━━━━━━━━\u001b[0m\u001b[37m\u001b[0m \u001b[1m1s\u001b[0m 2ms/step - RootMeanSquaredError: 0.5594 - loss: 0.3130 - val_RootMeanSquaredError: 1.2331 - val_loss: 1.5206\n",
      "Epoch 20/20\n",
      "\u001b[1m363/363\u001b[0m \u001b[32m━━━━━━━━━━━━━━━━━━━━\u001b[0m\u001b[37m\u001b[0m \u001b[1m1s\u001b[0m 2ms/step - RootMeanSquaredError: 0.5573 - loss: 0.3107 - val_RootMeanSquaredError: 1.1095 - val_loss: 1.2310\n",
      "\u001b[1m162/162\u001b[0m \u001b[32m━━━━━━━━━━━━━━━━━━━━\u001b[0m\u001b[37m\u001b[0m \u001b[1m0s\u001b[0m 1ms/step - RootMeanSquaredError: 0.5547 - loss: 0.3079\n",
      "\u001b[1m1/1\u001b[0m \u001b[32m━━━━━━━━━━━━━━━━━━━━\u001b[0m\u001b[37m\u001b[0m \u001b[1m0s\u001b[0m 102ms/step\n"
     ]
    }
   ],
   "source": [
    "optimizer = tf.keras.optimizers.Adam(learning_rate=1e-3)\n",
    "model.compile(loss=\"mse\", optimizer=optimizer, metrics=[\"RootMeanSquaredError\"])\n",
    "normalization_layer.adapt(X_train)\n",
    "history = model.fit(X_train, y_train, epochs=20, validation_data=(X_valid, y_valid))\n",
    "\n",
    "mse_test = model.evaluate(X_test, y_test)\n",
    "\n",
    "y_pred = model.predict(X_new)"
   ]
  },
  {
   "cell_type": "markdown",
   "id": "debaeeba-b963-4d9d-a834-eae1c4dbf5ed",
   "metadata": {},
   "source": [
    "But what if you want to send a subset of the features through the wide path\n",
    "and a different subset (possibly overlapping) through the deep path? In this case, one solution is to use multiple inputs.\n",
    "For example, suppose we want to send five features through the wide path\n",
    "(features 0 to 4), and six features through the deep path (features 2 to 7). We\n",
    "can do this as follows:\n"
   ]
  },
  {
   "cell_type": "code",
   "execution_count": 80,
   "id": "afaf01d5-b4a4-4938-8d0f-b9ccbadaf5e0",
   "metadata": {},
   "outputs": [],
   "source": [
    "tf.random.set_seed(42)  # extra code"
   ]
  },
  {
   "cell_type": "code",
   "execution_count": 81,
   "id": "80d1f563-8013-490f-b8c9-f3a07247ef1d",
   "metadata": {},
   "outputs": [],
   "source": [
    "input_wide = tf.keras.layers.Input(shape=[5])  # features 0 to 4\n",
    "input_deep = tf.keras.layers.Input(shape=[6])  # features 2 to 7\n",
    "norm_layer_wide = tf.keras.layers.Normalization()\n",
    "norm_layer_deep = tf.keras.layers.Normalization()\n",
    "norm_wide = norm_layer_wide(input_wide)\n",
    "norm_deep = norm_layer_deep(input_deep)\n",
    "hidden1 = tf.keras.layers.Dense(30, activation=\"relu\")(norm_deep)\n",
    "hidden2 = tf.keras.layers.Dense(30, activation=\"relu\")(hidden1)\n",
    "concat = tf.keras.layers.concatenate([norm_wide, hidden2])\n",
    "output = tf.keras.layers.Dense(1)(concat)\n",
    "model = tf.keras.Model(inputs=[input_wide, input_deep], outputs=[output])"
   ]
  },
  {
   "cell_type": "markdown",
   "id": "ce45dffc-6acd-4418-b1fe-44e0f2691d49",
   "metadata": {},
   "source": [
    "Now we can compile the model as usual, but when we call the fit() method,\n",
    "instead of passing a single input matrix X_train, we must pass a pair of\n",
    "matrices (X_train_wide, X_train_deep), one per input. The same is true for\n",
    "X_valid, and also for X_test and X_new when you call evaluate() or\n",
    "predict():"
   ]
  },
  {
   "cell_type": "code",
   "execution_count": 83,
   "id": "3ba28be1-1a47-4ca8-95dc-c1916c78c48a",
   "metadata": {},
   "outputs": [
    {
     "name": "stdout",
     "output_type": "stream",
     "text": [
      "Epoch 1/20\n",
      "\u001b[1m363/363\u001b[0m \u001b[32m━━━━━━━━━━━━━━━━━━━━\u001b[0m\u001b[37m\u001b[0m \u001b[1m3s\u001b[0m 4ms/step - RootMeanSquaredError: 1.6803 - loss: 2.9979 - val_RootMeanSquaredError: 0.7766 - val_loss: 0.6031\n",
      "Epoch 2/20\n",
      "\u001b[1m363/363\u001b[0m \u001b[32m━━━━━━━━━━━━━━━━━━━━\u001b[0m\u001b[37m\u001b[0m \u001b[1m1s\u001b[0m 2ms/step - RootMeanSquaredError: 0.7417 - loss: 0.5509 - val_RootMeanSquaredError: 0.6862 - val_loss: 0.4708\n",
      "Epoch 3/20\n",
      "\u001b[1m363/363\u001b[0m \u001b[32m━━━━━━━━━━━━━━━━━━━━\u001b[0m\u001b[37m\u001b[0m \u001b[1m1s\u001b[0m 2ms/step - RootMeanSquaredError: 0.6762 - loss: 0.4575 - val_RootMeanSquaredError: 0.9091 - val_loss: 0.8264\n",
      "Epoch 4/20\n",
      "\u001b[1m363/363\u001b[0m \u001b[32m━━━━━━━━━━━━━━━━━━━━\u001b[0m\u001b[37m\u001b[0m \u001b[1m1s\u001b[0m 3ms/step - RootMeanSquaredError: 0.6540 - loss: 0.4280 - val_RootMeanSquaredError: 0.9243 - val_loss: 0.8543\n",
      "Epoch 5/20\n",
      "\u001b[1m363/363\u001b[0m \u001b[32m━━━━━━━━━━━━━━━━━━━━\u001b[0m\u001b[37m\u001b[0m \u001b[1m1s\u001b[0m 3ms/step - RootMeanSquaredError: 0.6403 - loss: 0.4102 - val_RootMeanSquaredError: 1.2213 - val_loss: 1.4917\n",
      "Epoch 6/20\n",
      "\u001b[1m363/363\u001b[0m \u001b[32m━━━━━━━━━━━━━━━━━━━━\u001b[0m\u001b[37m\u001b[0m \u001b[1m1s\u001b[0m 3ms/step - RootMeanSquaredError: 0.6329 - loss: 0.4008 - val_RootMeanSquaredError: 1.4987 - val_loss: 2.2461\n",
      "Epoch 7/20\n",
      "\u001b[1m363/363\u001b[0m \u001b[32m━━━━━━━━━━━━━━━━━━━━\u001b[0m\u001b[37m\u001b[0m \u001b[1m1s\u001b[0m 3ms/step - RootMeanSquaredError: 0.6306 - loss: 0.3978 - val_RootMeanSquaredError: 1.7065 - val_loss: 2.9122\n",
      "Epoch 8/20\n",
      "\u001b[1m363/363\u001b[0m \u001b[32m━━━━━━━━━━━━━━━━━━━━\u001b[0m\u001b[37m\u001b[0m \u001b[1m1s\u001b[0m 2ms/step - RootMeanSquaredError: 0.6285 - loss: 0.3952 - val_RootMeanSquaredError: 1.1577 - val_loss: 1.3402\n",
      "Epoch 9/20\n",
      "\u001b[1m363/363\u001b[0m \u001b[32m━━━━━━━━━━━━━━━━━━━━\u001b[0m\u001b[37m\u001b[0m \u001b[1m1s\u001b[0m 3ms/step - RootMeanSquaredError: 0.6181 - loss: 0.3822 - val_RootMeanSquaredError: 0.8746 - val_loss: 0.7649\n",
      "Epoch 10/20\n",
      "\u001b[1m363/363\u001b[0m \u001b[32m━━━━━━━━━━━━━━━━━━━━\u001b[0m\u001b[37m\u001b[0m \u001b[1m1s\u001b[0m 3ms/step - RootMeanSquaredError: 0.6117 - loss: 0.3744 - val_RootMeanSquaredError: 0.7166 - val_loss: 0.5135\n",
      "Epoch 11/20\n",
      "\u001b[1m363/363\u001b[0m \u001b[32m━━━━━━━━━━━━━━━━━━━━\u001b[0m\u001b[37m\u001b[0m \u001b[1m1s\u001b[0m 2ms/step - RootMeanSquaredError: 0.6074 - loss: 0.3691 - val_RootMeanSquaredError: 0.7779 - val_loss: 0.6051\n",
      "Epoch 12/20\n",
      "\u001b[1m363/363\u001b[0m \u001b[32m━━━━━━━━━━━━━━━━━━━━\u001b[0m\u001b[37m\u001b[0m \u001b[1m1s\u001b[0m 2ms/step - RootMeanSquaredError: 0.6024 - loss: 0.3630 - val_RootMeanSquaredError: 1.0588 - val_loss: 1.1211\n",
      "Epoch 13/20\n",
      "\u001b[1m363/363\u001b[0m \u001b[32m━━━━━━━━━━━━━━━━━━━━\u001b[0m\u001b[37m\u001b[0m \u001b[1m1s\u001b[0m 2ms/step - RootMeanSquaredError: 0.6008 - loss: 0.3611 - val_RootMeanSquaredError: 1.2844 - val_loss: 1.6496\n",
      "Epoch 14/20\n",
      "\u001b[1m363/363\u001b[0m \u001b[32m━━━━━━━━━━━━━━━━━━━━\u001b[0m\u001b[37m\u001b[0m \u001b[1m1s\u001b[0m 2ms/step - RootMeanSquaredError: 0.6000 - loss: 0.3601 - val_RootMeanSquaredError: 1.3230 - val_loss: 1.7503\n",
      "Epoch 15/20\n",
      "\u001b[1m363/363\u001b[0m \u001b[32m━━━━━━━━━━━━━━━━━━━━\u001b[0m\u001b[37m\u001b[0m \u001b[1m1s\u001b[0m 2ms/step - RootMeanSquaredError: 0.5963 - loss: 0.3556 - val_RootMeanSquaredError: 0.9275 - val_loss: 0.8602\n",
      "Epoch 16/20\n",
      "\u001b[1m363/363\u001b[0m \u001b[32m━━━━━━━━━━━━━━━━━━━━\u001b[0m\u001b[37m\u001b[0m \u001b[1m1s\u001b[0m 2ms/step - RootMeanSquaredError: 0.5916 - loss: 0.3501 - val_RootMeanSquaredError: 0.9338 - val_loss: 0.8721\n",
      "Epoch 17/20\n",
      "\u001b[1m363/363\u001b[0m \u001b[32m━━━━━━━━━━━━━━━━━━━━\u001b[0m\u001b[37m\u001b[0m \u001b[1m1s\u001b[0m 2ms/step - RootMeanSquaredError: 0.5885 - loss: 0.3465 - val_RootMeanSquaredError: 0.7974 - val_loss: 0.6358\n",
      "Epoch 18/20\n",
      "\u001b[1m363/363\u001b[0m \u001b[32m━━━━━━━━━━━━━━━━━━━━\u001b[0m\u001b[37m\u001b[0m \u001b[1m1s\u001b[0m 2ms/step - RootMeanSquaredError: 0.5858 - loss: 0.3432 - val_RootMeanSquaredError: 0.8621 - val_loss: 0.7432\n",
      "Epoch 19/20\n",
      "\u001b[1m363/363\u001b[0m \u001b[32m━━━━━━━━━━━━━━━━━━━━\u001b[0m\u001b[37m\u001b[0m \u001b[1m1s\u001b[0m 2ms/step - RootMeanSquaredError: 0.5838 - loss: 0.3409 - val_RootMeanSquaredError: 0.8029 - val_loss: 0.6446\n",
      "Epoch 20/20\n",
      "\u001b[1m363/363\u001b[0m \u001b[32m━━━━━━━━━━━━━━━━━━━━\u001b[0m\u001b[37m\u001b[0m \u001b[1m1s\u001b[0m 2ms/step - RootMeanSquaredError: 0.5816 - loss: 0.3384 - val_RootMeanSquaredError: 0.9551 - val_loss: 0.9123\n",
      "\u001b[1m162/162\u001b[0m \u001b[32m━━━━━━━━━━━━━━━━━━━━\u001b[0m\u001b[37m\u001b[0m \u001b[1m0s\u001b[0m 970us/step - RootMeanSquaredError: 0.5838 - loss: 0.3409\n",
      "WARNING:tensorflow:5 out of the last 320 calls to <function TensorFlowTrainer.make_predict_function.<locals>.one_step_on_data_distributed at 0x00000272BEDB39C0> triggered tf.function retracing. Tracing is expensive and the excessive number of tracings could be due to (1) creating @tf.function repeatedly in a loop, (2) passing tensors with different shapes, (3) passing Python objects instead of tensors. For (1), please define your @tf.function outside of the loop. For (2), @tf.function has reduce_retracing=True option that can avoid unnecessary retracing. For (3), please refer to https://www.tensorflow.org/guide/function#controlling_retracing and https://www.tensorflow.org/api_docs/python/tf/function for  more details.\n",
      "\u001b[1m1/1\u001b[0m \u001b[32m━━━━━━━━━━━━━━━━━━━━\u001b[0m\u001b[37m\u001b[0m \u001b[1m0s\u001b[0m 72ms/step\n"
     ]
    }
   ],
   "source": [
    "optimizer = tf.keras.optimizers.Adam(learning_rate=1e-3)\n",
    "model.compile(loss=\"mse\", optimizer=optimizer, metrics=[\"RootMeanSquaredError\"])\n",
    "\n",
    "X_train_wide, X_train_deep = X_train[:, :5], X_train[:, 2:]\n",
    "X_valid_wide, X_valid_deep = X_valid[:, :5], X_valid[:, 2:]\n",
    "X_test_wide, X_test_deep = X_test[:, :5], X_test[:, 2:]\n",
    "X_new_wide, X_new_deep = X_test_wide[:3], X_test_deep[:3]\n",
    "\n",
    "norm_layer_wide.adapt(X_train_wide)\n",
    "norm_layer_deep.adapt(X_train_deep)\n",
    "history = model.fit((X_train_wide, X_train_deep), y_train, epochs=20, validation_data=((X_valid_wide, X_valid_deep), y_valid))"
   ]
  },
  {
   "cell_type": "code",
   "execution_count": 84,
   "id": "cff15d5a-dcb8-4cd3-ba37-c2d1f87e1f7c",
   "metadata": {},
   "outputs": [
    {
     "name": "stdout",
     "output_type": "stream",
     "text": [
      "\u001b[1m162/162\u001b[0m \u001b[32m━━━━━━━━━━━━━━━━━━━━\u001b[0m\u001b[37m\u001b[0m \u001b[1m0s\u001b[0m 1ms/step - RootMeanSquaredError: 0.5838 - loss: 0.3409\n"
     ]
    }
   ],
   "source": [
    "mse_test = model.evaluate((X_test_wide, X_test_deep), y_test)\n"
   ]
  },
  {
   "cell_type": "code",
   "execution_count": 85,
   "id": "766072ce-204e-4370-9b1c-9d668c8c2be9",
   "metadata": {},
   "outputs": [
    {
     "name": "stdout",
     "output_type": "stream",
     "text": [
      "\u001b[1m1/1\u001b[0m \u001b[32m━━━━━━━━━━━━━━━━━━━━\u001b[0m\u001b[37m\u001b[0m \u001b[1m0s\u001b[0m 42ms/step\n"
     ]
    }
   ],
   "source": [
    "y_pred = model.predict((X_new_wide, X_new_deep))"
   ]
  },
  {
   "cell_type": "code",
   "execution_count": 86,
   "id": "6a456c5a-1f52-4d98-9b34-926ee39d1822",
   "metadata": {},
   "outputs": [
    {
     "data": {
      "text/plain": [
       "array([[0.19852062],\n",
       "       [1.3408195 ],\n",
       "       [3.5714653 ]], dtype=float32)"
      ]
     },
     "execution_count": 86,
     "metadata": {},
     "output_type": "execute_result"
    }
   ],
   "source": [
    "y_pred"
   ]
  },
  {
   "cell_type": "markdown",
   "id": "4947066f-be49-4d18-ab87-0987c309d67e",
   "metadata": {},
   "source": [
    "**Tip:** Instead of passing a tuple (X_train_wide, X_train_deep), you can pass a dictionary\n",
    "{\"input_wide\": X_train_wide, \"input_deep\": X_train_deep}, if you set\n",
    "name=\"input_wide\" and name=\"input_deep\" when creating the inputs. This is highly\n",
    "recommended when there are many inputs, to clarify the code and avoid getting the order\n",
    "wrong.\n"
   ]
  },
  {
   "cell_type": "markdown",
   "id": "e0a20fac-5e96-4f00-91c9-815eed045a62",
   "metadata": {},
   "source": [
    "There are also many use cases in which you may want to have multiple\n",
    "outputs:\n",
    "- The task may demand it. For instance, you may want to locate and\n",
    "classify the main object in a picture. This is both a regression tasks and a\n",
    "classification task.\n",
    "- Similarly, you may have multiple independent tasks based on the same\n",
    "data. Sure, you could train one neural network per task, but in many\n",
    "cases you will get better results on all tasks by training a single neural\n",
    "network with one output per task. This is because the neural network can\n",
    "learn features in the data that are useful across tasks. For example, you\n",
    "could perform multitask classification on pictures of faces, using one\n",
    "output to classify the person’s facial expression (smiling, surprised, etc.)\n",
    "and another output to identify whether they are wearing glasses or not.\n",
    "- Another use case is as a regularization technique (i.e., a training\n",
    "constraint whose objective is to reduce overfitting and thus improve the\n",
    "model’s ability to generalize). For example, you may want to add an\n",
    "auxiliary output in a neural network architecture to\n",
    "ensure that the underlying part of the network learns something useful\n",
    "on its own, without relying on the rest of the network."
   ]
  },
  {
   "cell_type": "markdown",
   "id": "9d275ee3-03ec-4ee7-a788-b26481048326",
   "metadata": {},
   "source": [
    "Adding an auxiliary output for regularization:"
   ]
  },
  {
   "cell_type": "markdown",
   "id": "f4494fd9-df3c-44d5-b0bb-30a4d7af9f3d",
   "metadata": {},
   "source": [
    "Adding an extra output is quite easy: we just connect it to the appropriate\n",
    "layer and add it to the model’s list of outputs."
   ]
  },
  {
   "cell_type": "code",
   "execution_count": 87,
   "id": "373951a3-cefb-4780-b1b3-d4ada6292c26",
   "metadata": {},
   "outputs": [],
   "source": [
    "tf.keras.backend.clear_session()\n",
    "tf.random.set_seed(42)"
   ]
  },
  {
   "cell_type": "code",
   "execution_count": 88,
   "id": "3a5bea93-9e60-4813-b14f-a4c6e20f3e13",
   "metadata": {},
   "outputs": [],
   "source": [
    "input_wide = tf.keras.layers.Input(shape=[5])  # features 0 to 4\n",
    "input_deep = tf.keras.layers.Input(shape=[6])  # features 2 to 7\n",
    "norm_layer_wide = tf.keras.layers.Normalization()\n",
    "\n",
    "norm_layer_deep = tf.keras.layers.Normalization()\n",
    "norm_wide = norm_layer_wide(input_wide)\n",
    "norm_deep = norm_layer_deep(input_deep)\n",
    "\n",
    "hidden1 = tf.keras.layers.Dense(30, activation=\"relu\")(norm_deep)\n",
    "hidden2 = tf.keras.layers.Dense(30, activation=\"relu\")(hidden1)\n",
    "concat = tf.keras.layers.concatenate([norm_wide, hidden2])\n",
    "output = tf.keras.layers.Dense(1)(concat)\n",
    "aux_output = tf.keras.layers.Dense(1)(hidden2)\n",
    "\n",
    "model = tf.keras.Model(inputs=[input_wide, input_deep], outputs=[output, aux_output])"
   ]
  },
  {
   "cell_type": "markdown",
   "id": "3bc49670-9cae-4c24-9b8c-52ef9a3abccf",
   "metadata": {},
   "source": [
    "**Warning**: in recent versions, Keras requires one metric per output, so I replaced `metrics=[\"RootMeanSquaredError\"]` with `metrics=[\"RootMeanSquaredError\", \"RootMeanSquaredError\"]` in the code below."
   ]
  },
  {
   "cell_type": "code",
   "execution_count": 89,
   "id": "d78b8bb9-9e2a-47e4-a6e4-ab6ec686cc89",
   "metadata": {},
   "outputs": [],
   "source": [
    "optimizer = tf.keras.optimizers.Adam(learning_rate=1e-3)\n",
    "model.compile(loss=(\"mse\", \"mse\"), loss_weights=(0.9, 0.1), optimizer=optimizer, metrics=[\"RootMeanSquaredError\", \"RootMeanSquaredError\"])"
   ]
  },
  {
   "cell_type": "code",
   "execution_count": 90,
   "id": "c03032a2-59b1-4eaa-856f-1b0bdb3bb080",
   "metadata": {},
   "outputs": [
    {
     "name": "stdout",
     "output_type": "stream",
     "text": [
      "Epoch 1/20\n",
      "\u001b[1m363/363\u001b[0m \u001b[32m━━━━━━━━━━━━━━━━━━━━\u001b[0m\u001b[37m\u001b[0m \u001b[1m3s\u001b[0m 3ms/step - dense_2_RootMeanSquaredError: 1.8999 - dense_2_loss: 3.3473 - dense_3_RootMeanSquaredError: 2.0817 - dense_3_loss: 0.4437 - loss: 3.7910 - val_dense_2_RootMeanSquaredError: 0.9230 - val_dense_2_loss: 0.7665 - val_dense_3_RootMeanSquaredError: 2.6701 - val_dense_3_loss: 0.7126 - val_loss: 1.4796\n",
      "Epoch 2/20\n",
      "\u001b[1m363/363\u001b[0m \u001b[32m━━━━━━━━━━━━━━━━━━━━\u001b[0m\u001b[37m\u001b[0m \u001b[1m1s\u001b[0m 2ms/step - dense_2_RootMeanSquaredError: 0.8699 - dense_2_loss: 0.6821 - dense_3_RootMeanSquaredError: 0.9921 - dense_3_loss: 0.0986 - loss: 0.7807 - val_dense_2_RootMeanSquaredError: 0.8279 - val_dense_2_loss: 0.6167 - val_dense_3_RootMeanSquaredError: 1.2238 - val_dense_3_loss: 0.1497 - val_loss: 0.7666\n",
      "Epoch 3/20\n",
      "\u001b[1m363/363\u001b[0m \u001b[32m━━━━━━━━━━━━━━━━━━━━\u001b[0m\u001b[37m\u001b[0m \u001b[1m1s\u001b[0m 3ms/step - dense_2_RootMeanSquaredError: 0.7549 - dense_2_loss: 0.5132 - dense_3_RootMeanSquaredError: 0.7956 - dense_3_loss: 0.0633 - loss: 0.5765 - val_dense_2_RootMeanSquaredError: 0.7181 - val_dense_2_loss: 0.4641 - val_dense_3_RootMeanSquaredError: 1.1075 - val_dense_3_loss: 0.1226 - val_loss: 0.5868\n",
      "Epoch 4/20\n",
      "\u001b[1m363/363\u001b[0m \u001b[32m━━━━━━━━━━━━━━━━━━━━\u001b[0m\u001b[37m\u001b[0m \u001b[1m1s\u001b[0m 2ms/step - dense_2_RootMeanSquaredError: 0.7008 - dense_2_loss: 0.4421 - dense_3_RootMeanSquaredError: 0.7569 - dense_3_loss: 0.0573 - loss: 0.4994 - val_dense_2_RootMeanSquaredError: 0.9516 - val_dense_2_loss: 0.8147 - val_dense_3_RootMeanSquaredError: 0.8669 - val_dense_3_loss: 0.0751 - val_loss: 0.8902\n",
      "Epoch 5/20\n",
      "\u001b[1m363/363\u001b[0m \u001b[32m━━━━━━━━━━━━━━━━━━━━\u001b[0m\u001b[37m\u001b[0m \u001b[1m1s\u001b[0m 2ms/step - dense_2_RootMeanSquaredError: 0.6646 - dense_2_loss: 0.3977 - dense_3_RootMeanSquaredError: 0.7348 - dense_3_loss: 0.0540 - loss: 0.4517 - val_dense_2_RootMeanSquaredError: 1.0608 - val_dense_2_loss: 1.0123 - val_dense_3_RootMeanSquaredError: 0.9178 - val_dense_3_loss: 0.0842 - val_loss: 1.0969\n",
      "Epoch 6/20\n",
      "\u001b[1m363/363\u001b[0m \u001b[32m━━━━━━━━━━━━━━━━━━━━\u001b[0m\u001b[37m\u001b[0m \u001b[1m1s\u001b[0m 2ms/step - dense_2_RootMeanSquaredError: 0.6379 - dense_2_loss: 0.3664 - dense_3_RootMeanSquaredError: 0.7178 - dense_3_loss: 0.0515 - loss: 0.4179 - val_dense_2_RootMeanSquaredError: 0.9349 - val_dense_2_loss: 0.7864 - val_dense_3_RootMeanSquaredError: 0.6833 - val_dense_3_loss: 0.0467 - val_loss: 0.8334\n",
      "Epoch 7/20\n",
      "\u001b[1m363/363\u001b[0m \u001b[32m━━━━━━━━━━━━━━━━━━━━\u001b[0m\u001b[37m\u001b[0m \u001b[1m1s\u001b[0m 2ms/step - dense_2_RootMeanSquaredError: 0.6153 - dense_2_loss: 0.3408 - dense_3_RootMeanSquaredError: 0.6961 - dense_3_loss: 0.0485 - loss: 0.3893 - val_dense_2_RootMeanSquaredError: 0.5820 - val_dense_2_loss: 0.3048 - val_dense_3_RootMeanSquaredError: 0.7040 - val_dense_3_loss: 0.0495 - val_loss: 0.3544\n",
      "Epoch 8/20\n",
      "\u001b[1m363/363\u001b[0m \u001b[32m━━━━━━━━━━━━━━━━━━━━\u001b[0m\u001b[37m\u001b[0m \u001b[1m1s\u001b[0m 2ms/step - dense_2_RootMeanSquaredError: 0.6026 - dense_2_loss: 0.3269 - dense_3_RootMeanSquaredError: 0.6777 - dense_3_loss: 0.0459 - loss: 0.3728 - val_dense_2_RootMeanSquaredError: 0.9945 - val_dense_2_loss: 0.8897 - val_dense_3_RootMeanSquaredError: 0.7525 - val_dense_3_loss: 0.0566 - val_loss: 0.9467\n",
      "Epoch 9/20\n",
      "\u001b[1m363/363\u001b[0m \u001b[32m━━━━━━━━━━━━━━━━━━━━\u001b[0m\u001b[37m\u001b[0m \u001b[1m1s\u001b[0m 2ms/step - dense_2_RootMeanSquaredError: 0.5967 - dense_2_loss: 0.3206 - dense_3_RootMeanSquaredError: 0.6659 - dense_3_loss: 0.0444 - loss: 0.3649 - val_dense_2_RootMeanSquaredError: 1.1416 - val_dense_2_loss: 1.1725 - val_dense_3_RootMeanSquaredError: 0.8136 - val_dense_3_loss: 0.0662 - val_loss: 1.2392\n",
      "Epoch 10/20\n",
      "\u001b[1m363/363\u001b[0m \u001b[32m━━━━━━━━━━━━━━━━━━━━\u001b[0m\u001b[37m\u001b[0m \u001b[1m1s\u001b[0m 2ms/step - dense_2_RootMeanSquaredError: 0.5935 - dense_2_loss: 0.3171 - dense_3_RootMeanSquaredError: 0.6564 - dense_3_loss: 0.0431 - loss: 0.3602 - val_dense_2_RootMeanSquaredError: 1.1644 - val_dense_2_loss: 1.2197 - val_dense_3_RootMeanSquaredError: 0.6914 - val_dense_3_loss: 0.0478 - val_loss: 1.2681\n",
      "Epoch 11/20\n",
      "\u001b[1m363/363\u001b[0m \u001b[32m━━━━━━━━━━━━━━━━━━━━\u001b[0m\u001b[37m\u001b[0m \u001b[1m1s\u001b[0m 2ms/step - dense_2_RootMeanSquaredError: 0.5903 - dense_2_loss: 0.3137 - dense_3_RootMeanSquaredError: 0.6514 - dense_3_loss: 0.0424 - loss: 0.3561 - val_dense_2_RootMeanSquaredError: 1.7740 - val_dense_2_loss: 2.8310 - val_dense_3_RootMeanSquaredError: 1.5676 - val_dense_3_loss: 0.2456 - val_loss: 3.0781\n",
      "Epoch 12/20\n",
      "\u001b[1m363/363\u001b[0m \u001b[32m━━━━━━━━━━━━━━━━━━━━\u001b[0m\u001b[37m\u001b[0m \u001b[1m1s\u001b[0m 2ms/step - dense_2_RootMeanSquaredError: 0.5911 - dense_2_loss: 0.3145 - dense_3_RootMeanSquaredError: 0.6485 - dense_3_loss: 0.0421 - loss: 0.3566 - val_dense_2_RootMeanSquaredError: 1.3911 - val_dense_2_loss: 1.7408 - val_dense_3_RootMeanSquaredError: 0.9289 - val_dense_3_loss: 0.0863 - val_loss: 1.8279\n",
      "Epoch 13/20\n",
      "\u001b[1m363/363\u001b[0m \u001b[32m━━━━━━━━━━━━━━━━━━━━\u001b[0m\u001b[37m\u001b[0m \u001b[1m1s\u001b[0m 2ms/step - dense_2_RootMeanSquaredError: 0.5876 - dense_2_loss: 0.3108 - dense_3_RootMeanSquaredError: 0.6451 - dense_3_loss: 0.0416 - loss: 0.3525 - val_dense_2_RootMeanSquaredError: 1.5192 - val_dense_2_loss: 2.0761 - val_dense_3_RootMeanSquaredError: 1.3164 - val_dense_3_loss: 0.1732 - val_loss: 2.2504\n",
      "Epoch 14/20\n",
      "\u001b[1m363/363\u001b[0m \u001b[32m━━━━━━━━━━━━━━━━━━━━\u001b[0m\u001b[37m\u001b[0m \u001b[1m1s\u001b[0m 2ms/step - dense_2_RootMeanSquaredError: 0.5852 - dense_2_loss: 0.3083 - dense_3_RootMeanSquaredError: 0.6403 - dense_3_loss: 0.0410 - loss: 0.3493 - val_dense_2_RootMeanSquaredError: 1.0335 - val_dense_2_loss: 0.9610 - val_dense_3_RootMeanSquaredError: 0.7749 - val_dense_3_loss: 0.0600 - val_loss: 1.0214\n",
      "Epoch 15/20\n",
      "\u001b[1m363/363\u001b[0m \u001b[32m━━━━━━━━━━━━━━━━━━━━\u001b[0m\u001b[37m\u001b[0m \u001b[1m1s\u001b[0m 2ms/step - dense_2_RootMeanSquaredError: 0.5798 - dense_2_loss: 0.3026 - dense_3_RootMeanSquaredError: 0.6365 - dense_3_loss: 0.0405 - loss: 0.3431 - val_dense_2_RootMeanSquaredError: 1.0992 - val_dense_2_loss: 1.0870 - val_dense_3_RootMeanSquaredError: 1.0367 - val_dense_3_loss: 0.1074 - val_loss: 1.1950\n",
      "Epoch 16/20\n",
      "\u001b[1m363/363\u001b[0m \u001b[32m━━━━━━━━━━━━━━━━━━━━\u001b[0m\u001b[37m\u001b[0m \u001b[1m1s\u001b[0m 3ms/step - dense_2_RootMeanSquaredError: 0.5768 - dense_2_loss: 0.2995 - dense_3_RootMeanSquaredError: 0.6335 - dense_3_loss: 0.0401 - loss: 0.3397 - val_dense_2_RootMeanSquaredError: 0.8623 - val_dense_2_loss: 0.6689 - val_dense_3_RootMeanSquaredError: 0.7150 - val_dense_3_loss: 0.0511 - val_loss: 0.7203\n",
      "Epoch 17/20\n",
      "\u001b[1m363/363\u001b[0m \u001b[32m━━━━━━━━━━━━━━━━━━━━\u001b[0m\u001b[37m\u001b[0m \u001b[1m1s\u001b[0m 3ms/step - dense_2_RootMeanSquaredError: 0.5737 - dense_2_loss: 0.2962 - dense_3_RootMeanSquaredError: 0.6297 - dense_3_loss: 0.0397 - loss: 0.3359 - val_dense_2_RootMeanSquaredError: 1.0586 - val_dense_2_loss: 1.0081 - val_dense_3_RootMeanSquaredError: 1.0019 - val_dense_3_loss: 0.1003 - val_loss: 1.1089\n",
      "Epoch 18/20\n",
      "\u001b[1m363/363\u001b[0m \u001b[32m━━━━━━━━━━━━━━━━━━━━\u001b[0m\u001b[37m\u001b[0m \u001b[1m1s\u001b[0m 2ms/step - dense_2_RootMeanSquaredError: 0.5721 - dense_2_loss: 0.2946 - dense_3_RootMeanSquaredError: 0.6253 - dense_3_loss: 0.0391 - loss: 0.3337 - val_dense_2_RootMeanSquaredError: 0.9195 - val_dense_2_loss: 0.7606 - val_dense_3_RootMeanSquaredError: 0.7444 - val_dense_3_loss: 0.0554 - val_loss: 0.8163\n",
      "Epoch 19/20\n",
      "\u001b[1m363/363\u001b[0m \u001b[32m━━━━━━━━━━━━━━━━━━━━\u001b[0m\u001b[37m\u001b[0m \u001b[1m1s\u001b[0m 2ms/step - dense_2_RootMeanSquaredError: 0.5704 - dense_2_loss: 0.2928 - dense_3_RootMeanSquaredError: 0.6235 - dense_3_loss: 0.0389 - loss: 0.3317 - val_dense_2_RootMeanSquaredError: 1.1036 - val_dense_2_loss: 1.0956 - val_dense_3_RootMeanSquaredError: 1.0455 - val_dense_3_loss: 0.1093 - val_loss: 1.2054\n",
      "Epoch 20/20\n",
      "\u001b[1m363/363\u001b[0m \u001b[32m━━━━━━━━━━━━━━━━━━━━\u001b[0m\u001b[37m\u001b[0m \u001b[1m1s\u001b[0m 2ms/step - dense_2_RootMeanSquaredError: 0.5693 - dense_2_loss: 0.2918 - dense_3_RootMeanSquaredError: 0.6205 - dense_3_loss: 0.0385 - loss: 0.3303 - val_dense_2_RootMeanSquaredError: 0.9357 - val_dense_2_loss: 0.7877 - val_dense_3_RootMeanSquaredError: 0.7562 - val_dense_3_loss: 0.0572 - val_loss: 0.8452\n"
     ]
    }
   ],
   "source": [
    "norm_layer_wide.adapt(X_train_wide)\n",
    "norm_layer_deep.adapt(X_train_deep)\n",
    "\n",
    "history = model.fit(\n",
    "    (X_train_wide, X_train_deep), (y_train, y_train), epochs=20,\n",
    "    validation_data=((X_valid_wide, X_valid_deep), (y_valid, y_valid))\n",
    ")"
   ]
  },
  {
   "cell_type": "markdown",
   "id": "57b7c103-8956-494f-af8b-a882d51f4083",
   "metadata": {},
   "source": [
    "When we evaluate the model, Keras returns the weighted sum of the losses,\n",
    "as well as all the individual losses and metrics:\n"
   ]
  },
  {
   "cell_type": "code",
   "execution_count": 92,
   "id": "9d073ad6-fb7b-4f90-bc7c-7ce3e307a186",
   "metadata": {},
   "outputs": [
    {
     "name": "stdout",
     "output_type": "stream",
     "text": [
      "\u001b[1m162/162\u001b[0m \u001b[32m━━━━━━━━━━━━━━━━━━━━\u001b[0m\u001b[37m\u001b[0m \u001b[1m0s\u001b[0m 1ms/step - dense_2_RootMeanSquaredError: 0.5679 - dense_2_loss: 0.2904 - dense_3_RootMeanSquaredError: 0.6239 - dense_3_loss: 0.0389 - loss: 0.3293\n"
     ]
    }
   ],
   "source": [
    "eval_results = model.evaluate((X_test_wide, X_test_deep), (y_test, y_test))\n",
    "\n",
    "weighted_sum_of_losses, main_loss, aux_loss, main_rmse, aux_rmse = eval_results"
   ]
  },
  {
   "cell_type": "markdown",
   "id": "de425d87-aa52-48df-8ddd-8eced3dd7828",
   "metadata": {},
   "source": [
    "Similarly, the predict() method will return predictions for each output:\n"
   ]
  },
  {
   "cell_type": "markdown",
   "id": "c2ec3762-186d-4dfd-bee8-442bdd767f75",
   "metadata": {},
   "source": [
    "**TIP:**\n",
    "If you set return_dict=True, then evaluate() will return a dictionary instead of a big tuple.\n"
   ]
  },
  {
   "cell_type": "markdown",
   "id": "83fcd2d6-676e-4c3b-9865-a502163db016",
   "metadata": {},
   "source": [
    "y_pred_main, y_pred_aux = model.predict((X_new_wide, X_new_deep))"
   ]
  },
  {
   "cell_type": "code",
   "execution_count": 94,
   "id": "39097ef0-b32c-4549-a557-1923c01def59",
   "metadata": {},
   "outputs": [
    {
     "data": {
      "text/plain": [
       "array([[0.58680797],\n",
       "       [1.3303435 ],\n",
       "       [3.7028759 ]], dtype=float32)"
      ]
     },
     "execution_count": 94,
     "metadata": {},
     "output_type": "execute_result"
    }
   ],
   "source": [
    "y_pred_main"
   ]
  },
  {
   "cell_type": "code",
   "execution_count": 95,
   "id": "3be918ee-59cd-46dc-8fd1-7809ea1b2044",
   "metadata": {},
   "outputs": [
    {
     "data": {
      "text/plain": [
       "array([[0.705457 ],\n",
       "       [1.3578792],\n",
       "       [3.4309156]], dtype=float32)"
      ]
     },
     "execution_count": 95,
     "metadata": {},
     "output_type": "execute_result"
    }
   ],
   "source": [
    "y_pred_aux"
   ]
  },
  {
   "cell_type": "markdown",
   "id": "f3fb83f7-061a-4f42-be7c-2636b960956b",
   "metadata": {},
   "source": [
    "The predict() method returns a tuple, and it does not have a return_dict\n",
    "argument to get a dictionary instead. However, you can create one using\n",
    "model.output_names:"
   ]
  },
  {
   "cell_type": "code",
   "execution_count": 96,
   "id": "0711f25b-8682-4589-b421-0578f49a7743",
   "metadata": {},
   "outputs": [
    {
     "name": "stdout",
     "output_type": "stream",
     "text": [
      "\u001b[1m1/1\u001b[0m \u001b[32m━━━━━━━━━━━━━━━━━━━━\u001b[0m\u001b[37m\u001b[0m \u001b[1m0s\u001b[0m 41ms/step\n"
     ]
    }
   ],
   "source": [
    "y_pred_tuple = model.predict((X_new_wide, X_new_deep))\n",
    "y_pred = dict(zip(model.output_names, y_pred_tuple))"
   ]
  },
  {
   "cell_type": "code",
   "execution_count": 97,
   "id": "93d8e66b-6e7a-4dea-bfd3-43e950721472",
   "metadata": {},
   "outputs": [
    {
     "data": {
      "text/plain": [
       "[array([[0.58680797],\n",
       "        [1.3303435 ],\n",
       "        [3.7028759 ]], dtype=float32),\n",
       " array([[0.705457 ],\n",
       "        [1.3578792],\n",
       "        [3.4309156]], dtype=float32)]"
      ]
     },
     "execution_count": 97,
     "metadata": {},
     "output_type": "execute_result"
    }
   ],
   "source": [
    "y_pred_tuple"
   ]
  },
  {
   "cell_type": "code",
   "execution_count": 98,
   "id": "25327382-f09d-46d4-b0e3-f7c2eca7807b",
   "metadata": {},
   "outputs": [
    {
     "data": {
      "text/plain": [
       "{'dense_2': array([[0.58680797],\n",
       "        [1.3303435 ],\n",
       "        [3.7028759 ]], dtype=float32),\n",
       " 'dense_3': array([[0.705457 ],\n",
       "        [1.3578792],\n",
       "        [3.4309156]], dtype=float32)}"
      ]
     },
     "execution_count": 98,
     "metadata": {},
     "output_type": "execute_result"
    }
   ],
   "source": [
    "y_pred"
   ]
  },
  {
   "cell_type": "markdown",
   "id": "5af8bece-7bce-4f1b-b76c-a3c3b4adaaa8",
   "metadata": {},
   "source": [
    "As you can see, you can build all sorts of architectures with the functional\n",
    "API. Next, we’ll look at one last way you can build Keras models."
   ]
  },
  {
   "cell_type": "markdown",
   "id": "aad2f66f-0471-4a5c-a046-0c21d66336c7",
   "metadata": {},
   "source": [
    "# Using the Subclassing API to Build Dynamic Models"
   ]
  },
  {
   "cell_type": "markdown",
   "id": "de616a27-d408-4597-8ed0-16f73d1f5b9c",
   "metadata": {},
   "source": [
    "Both the sequential API and the functional API are declarative: you start by\n",
    "declaring which layers you want to use and how they should be connected,\n",
    "and only then can you start feeding the model some data for training or\n",
    "inference. This has many advantages: the model can easily be saved, cloned,\n",
    "and shared; its structure can be displayed and analyzed; the framework can\n",
    "infer shapes and check types, so errors can be caught early (i.e., before any\n",
    "data ever goes through the model). It’s also fairly straightforward to debug,\n",
    "since the whole model is a static graph of layers. But the flip side is just that:\n",
    "it’s static. Some models involve loops, varying shapes, conditional branching,\n",
    "and other dynamic behaviors. For such cases, or simply if you prefer a more\n",
    "imperative programming style, the subclassing API is for you.\n",
    "\n",
    "With this approach, you subclass the Model class, create the layers you need\n",
    "in the constructor, and use them to perform the computations you want in the\n",
    "call() method. For example, creating an instance of the following\n",
    "WideAndDeepModel class gives us an equivalent model to the one we just\n",
    "built with the functional API:\n"
   ]
  },
  {
   "cell_type": "code",
   "execution_count": 102,
   "id": "504a98a2-9d3c-4b42-a92c-a8577109b471",
   "metadata": {},
   "outputs": [],
   "source": [
    "class WideAndDeepModel(tf.keras.Model):\n",
    "    def __init__(self, units=30, activation=\"relu\", **kwargs):\n",
    "        super().__init__(**kwargs)  # needed to support naming the model\n",
    "        self.norm_layer_wide = tf.keras.layers.Normalization()\n",
    "        self.norm_layer_deep = tf.keras.layers.Normalization()\n",
    "        self.hidden1 = tf.keras.layers.Dense(units, activation=activation)\n",
    "        self.hidden2 = tf.keras.layers.Dense(units, activation=activation)\n",
    "        self.main_output = tf.keras.layers.Dense(1)\n",
    "        self.aux_output = tf.keras.layers.Dense(1)\n",
    "        \n",
    "    def call(self, inputs):\n",
    "        input_wide, input_deep = inputs\n",
    "        norm_wide = self.norm_layer_wide(input_wide)\n",
    "        norm_deep = self.norm_layer_deep(input_deep)\n",
    "        hidden1 = self.hidden1(norm_deep)\n",
    "        hidden2 = self.hidden2(hidden1)\n",
    "        concat = tf.keras.layers.concatenate([norm_wide, hidden2])\n",
    "        output = self.main_output(concat)\n",
    "        aux_output = self.aux_output(hidden2)\n",
    "        return output, aux_output\n",
    "\n",
    "tf.random.set_seed(42)  # extra code – just for reproducibility\n",
    "model = WideAndDeepModel(30, activation=\"relu\", name=\"my_cool_model\")"
   ]
  },
  {
   "cell_type": "code",
   "execution_count": 103,
   "id": "fa695c08-5b1c-464f-83b8-c0d5fc83a110",
   "metadata": {},
   "outputs": [
    {
     "name": "stdout",
     "output_type": "stream",
     "text": [
      "Epoch 1/10\n",
      "\u001b[1m363/363\u001b[0m \u001b[32m━━━━━━━━━━━━━━━━━━━━\u001b[0m\u001b[37m\u001b[0m \u001b[1m3s\u001b[0m 3ms/step - RootMeanSquaredError: 1.8374 - RootMeanSquaredError_1: 2.2616 - loss: 3.7048 - mse_loss: 0.5188 - val_RootMeanSquaredError: 1.0758 - val_RootMeanSquaredError_1: 2.7971 - val_loss: 1.8239 - val_mse_loss: 0.7820\n",
      "Epoch 2/10\n",
      "\u001b[1m363/363\u001b[0m \u001b[32m━━━━━━━━━━━━━━━━━━━━\u001b[0m\u001b[37m\u001b[0m \u001b[1m1s\u001b[0m 2ms/step - RootMeanSquaredError: 0.7888 - RootMeanSquaredError_1: 0.9912 - loss: 0.6589 - mse_loss: 0.0984 - val_RootMeanSquaredError: 1.1467 - val_RootMeanSquaredError_1: 1.4499 - val_loss: 1.3936 - val_mse_loss: 0.2101\n",
      "Epoch 3/10\n",
      "\u001b[1m363/363\u001b[0m \u001b[32m━━━━━━━━━━━━━━━━━━━━\u001b[0m\u001b[37m\u001b[0m \u001b[1m1s\u001b[0m 2ms/step - RootMeanSquaredError: 0.7077 - RootMeanSquaredError_1: 0.8293 - loss: 0.5197 - mse_loss: 0.0688 - val_RootMeanSquaredError: 1.4267 - val_RootMeanSquaredError_1: 0.7985 - val_loss: 1.8957 - val_mse_loss: 0.0637\n",
      "Epoch 4/10\n",
      "\u001b[1m363/363\u001b[0m \u001b[32m━━━━━━━━━━━━━━━━━━━━\u001b[0m\u001b[37m\u001b[0m \u001b[1m1s\u001b[0m 2ms/step - RootMeanSquaredError: 0.6729 - RootMeanSquaredError_1: 0.7823 - loss: 0.4689 - mse_loss: 0.0612 - val_RootMeanSquaredError: 1.8334 - val_RootMeanSquaredError_1: 1.2369 - val_loss: 3.1782 - val_mse_loss: 0.1529\n",
      "Epoch 5/10\n",
      "\u001b[1m363/363\u001b[0m \u001b[32m━━━━━━━━━━━━━━━━━━━━\u001b[0m\u001b[37m\u001b[0m \u001b[1m1s\u001b[0m 2ms/step - RootMeanSquaredError: 0.6557 - RootMeanSquaredError_1: 0.7593 - loss: 0.4447 - mse_loss: 0.0577 - val_RootMeanSquaredError: 2.5554 - val_RootMeanSquaredError_1: 1.1022 - val_loss: 5.9985 - val_mse_loss: 0.1214\n",
      "Epoch 6/10\n",
      "\u001b[1m363/363\u001b[0m \u001b[32m━━━━━━━━━━━━━━━━━━━━\u001b[0m\u001b[37m\u001b[0m \u001b[1m1s\u001b[0m 2ms/step - RootMeanSquaredError: 0.6485 - RootMeanSquaredError_1: 0.7511 - loss: 0.4351 - mse_loss: 0.0564 - val_RootMeanSquaredError: 2.8171 - val_RootMeanSquaredError_1: 1.0895 - val_loss: 7.2611 - val_mse_loss: 0.1187\n",
      "Epoch 7/10\n",
      "\u001b[1m363/363\u001b[0m \u001b[32m━━━━━━━━━━━━━━━━━━━━\u001b[0m\u001b[37m\u001b[0m \u001b[1m1s\u001b[0m 2ms/step - RootMeanSquaredError: 0.6452 - RootMeanSquaredError_1: 0.7296 - loss: 0.4283 - mse_loss: 0.0532 - val_RootMeanSquaredError: 2.5913 - val_RootMeanSquaredError_1: 1.3115 - val_loss: 6.2151 - val_mse_loss: 0.1719\n",
      "Epoch 8/10\n",
      "\u001b[1m363/363\u001b[0m \u001b[32m━━━━━━━━━━━━━━━━━━━━\u001b[0m\u001b[37m\u001b[0m \u001b[1m1s\u001b[0m 2ms/step - RootMeanSquaredError: 0.6365 - RootMeanSquaredError_1: 0.7237 - loss: 0.4172 - mse_loss: 0.0524 - val_RootMeanSquaredError: 1.9224 - val_RootMeanSquaredError_1: 0.9401 - val_loss: 3.4144 - val_mse_loss: 0.0884\n",
      "Epoch 9/10\n",
      "\u001b[1m363/363\u001b[0m \u001b[32m━━━━━━━━━━━━━━━━━━━━\u001b[0m\u001b[37m\u001b[0m \u001b[1m1s\u001b[0m 2ms/step - RootMeanSquaredError: 0.6214 - RootMeanSquaredError_1: 0.6962 - loss: 0.3962 - mse_loss: 0.0485 - val_RootMeanSquaredError: 1.4294 - val_RootMeanSquaredError_1: 0.7818 - val_loss: 1.9000 - val_mse_loss: 0.0611\n",
      "Epoch 10/10\n",
      "\u001b[1m363/363\u001b[0m \u001b[32m━━━━━━━━━━━━━━━━━━━━\u001b[0m\u001b[37m\u001b[0m \u001b[1m1s\u001b[0m 2ms/step - RootMeanSquaredError: 0.6109 - RootMeanSquaredError_1: 0.6838 - loss: 0.3828 - mse_loss: 0.0468 - val_RootMeanSquaredError: 1.4007 - val_RootMeanSquaredError_1: 1.2485 - val_loss: 1.9216 - val_mse_loss: 0.1558\n"
     ]
    }
   ],
   "source": [
    "optimizer = tf.keras.optimizers.Adam(learning_rate=1e-3)\n",
    "model.compile(loss=\"mse\", loss_weights=[0.9, 0.1], optimizer=optimizer, metrics=[\"RootMeanSquaredError\", \"RootMeanSquaredError\"])\n",
    "\n",
    "model.norm_layer_wide.adapt(X_train_wide)\n",
    "model.norm_layer_deep.adapt(X_train_deep)\n",
    "\n",
    "history = model.fit((X_train_wide, X_train_deep), (y_train, y_train), epochs=10, validation_data=((X_valid_wide, X_valid_deep), (y_valid, y_valid)))\n",
    "\n"
   ]
  },
  {
   "cell_type": "code",
   "execution_count": 104,
   "id": "e7930e9e-5410-48ab-954a-4112690c7aa0",
   "metadata": {},
   "outputs": [
    {
     "name": "stdout",
     "output_type": "stream",
     "text": [
      "\u001b[1m162/162\u001b[0m \u001b[32m━━━━━━━━━━━━━━━━━━━━\u001b[0m\u001b[37m\u001b[0m \u001b[1m0s\u001b[0m 1ms/step - RootMeanSquaredError: 0.6039 - RootMeanSquaredError_1: 0.6673 - loss: 0.3729 - mse_loss: 0.0445\n",
      "\u001b[1m1/1\u001b[0m \u001b[32m━━━━━━━━━━━━━━━━━━━━\u001b[0m\u001b[37m\u001b[0m \u001b[1m0s\u001b[0m 90ms/step\n"
     ]
    }
   ],
   "source": [
    "\n",
    "eval_results = model.evaluate((X_test_wide, X_test_deep), (y_test, y_test))\n",
    "y_pred_main, y_pred_aux = model.predict((X_new_wide, X_new_deep)) "
   ]
  },
  {
   "cell_type": "code",
   "execution_count": null,
   "id": "3fc42dcd-1103-4c32-9a13-debfc3ee4406",
   "metadata": {},
   "outputs": [],
   "source": []
  }
 ],
 "metadata": {
  "kernelspec": {
   "display_name": "Python 3 (ipykernel)",
   "language": "python",
   "name": "python3"
  },
  "language_info": {
   "codemirror_mode": {
    "name": "ipython",
    "version": 3
   },
   "file_extension": ".py",
   "mimetype": "text/x-python",
   "name": "python",
   "nbconvert_exporter": "python",
   "pygments_lexer": "ipython3",
   "version": "3.12.4"
  }
 },
 "nbformat": 4,
 "nbformat_minor": 5
}
